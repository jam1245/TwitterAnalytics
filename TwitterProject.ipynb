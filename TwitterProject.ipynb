{
 "cells": [
  {
   "cell_type": "code",
   "execution_count": 11,
   "metadata": {
    "collapsed": false
   },
   "outputs": [
    {
     "name": "stderr",
     "output_type": "stream",
     "text": [
      "Loading required package: NLP\n",
      "\n",
      "Attaching package: ‘NLP’\n",
      "\n",
      "The following object is masked from ‘package:httr’:\n",
      "\n",
      "    content\n",
      "\n",
      "The following object is masked from ‘package:ggplot2’:\n",
      "\n",
      "    annotate\n",
      "\n",
      "\n",
      "Attaching package: ‘lubridate’\n",
      "\n",
      "The following object is masked from ‘package:base’:\n",
      "\n",
      "    date\n",
      "\n"
     ]
    }
   ],
   "source": [
    "library(twitteR)\n",
    "library(stringr)\n",
    "library(ggplot2)\n",
    "library(httr)\n",
    "library(rjson)\n",
    "library(tm)\n",
    "library(gridExtra)\n",
    "library(lubridate)\n",
    "library(SnowballC)"
   ]
  },
  {
   "cell_type": "code",
   "execution_count": 35,
   "metadata": {
    "collapsed": false
   },
   "outputs": [
    {
     "name": "stderr",
     "output_type": "stream",
     "text": [
      "Parsed with column specification:\n",
      "cols(\n",
      "  job_id = col_integer(),\n",
      "  query = col_character(),\n",
      "  name = col_character()\n",
      ")\n"
     ]
    },
    {
     "data": {
      "text/html": [
       "<table>\n",
       "<thead><tr><th scope=col>job_id</th><th scope=col>query</th><th scope=col>name</th></tr></thead>\n",
       "<tbody>\n",
       "\t<tr><td>1           </td><td>q=missouri  </td><td>missouri    </td></tr>\n",
       "\t<tr><td>2           </td><td>q=texas     </td><td>texas       </td></tr>\n",
       "\t<tr><td>3           </td><td>q=california</td><td>california  </td></tr>\n",
       "\t<tr><td>4           </td><td>q=london    </td><td>london      </td></tr>\n",
       "\t<tr><td>5           </td><td>q=france    </td><td>france      </td></tr>\n",
       "</tbody>\n",
       "</table>\n"
      ],
      "text/latex": [
       "\\begin{tabular}{r|lll}\n",
       " job\\_id & query & name\\\\\n",
       "\\hline\n",
       "\t 1            & q=missouri   & missouri    \\\\\n",
       "\t 2            & q=texas      & texas       \\\\\n",
       "\t 3            & q=california & california  \\\\\n",
       "\t 4            & q=london     & london      \\\\\n",
       "\t 5            & q=france     & france      \\\\\n",
       "\\end{tabular}\n"
      ],
      "text/plain": [
       "  job_id query        name      \n",
       "1 1      q=missouri   missouri  \n",
       "2 2      q=texas      texas     \n",
       "3 3      q=california california\n",
       "4 4      q=london     london    \n",
       "5 5      q=france     france    "
      ]
     },
     "metadata": {},
     "output_type": "display_data"
    },
    {
     "data": {
      "text/html": [
       "<table>\n",
       "<thead><tr><th scope=col>X</th><th scope=col>hashtag</th><th scope=col>job_id</th><th scope=col>tweet_id_str</th></tr></thead>\n",
       "<tbody>\n",
       "\t<tr><td>0           </td><td>Redskins    </td><td>1           </td><td>8.569068e+17</td></tr>\n",
       "\t<tr><td>1           </td><td>Missouri    </td><td>1           </td><td>8.569064e+17</td></tr>\n",
       "\t<tr><td>2           </td><td>roleplay    </td><td>1           </td><td>8.569064e+17</td></tr>\n",
       "\t<tr><td>3           </td><td>hotgirl     </td><td>1           </td><td>8.569064e+17</td></tr>\n",
       "\t<tr><td>4           </td><td>love        </td><td>1           </td><td>8.569064e+17</td></tr>\n",
       "\t<tr><td>5           </td><td>orgazm      </td><td>1           </td><td>8.569064e+17</td></tr>\n",
       "</tbody>\n",
       "</table>\n"
      ],
      "text/latex": [
       "\\begin{tabular}{r|llll}\n",
       " X & hashtag & job\\_id & tweet\\_id\\_str\\\\\n",
       "\\hline\n",
       "\t 0            & Redskins     & 1            & 8.569068e+17\\\\\n",
       "\t 1            & Missouri     & 1            & 8.569064e+17\\\\\n",
       "\t 2            & roleplay     & 1            & 8.569064e+17\\\\\n",
       "\t 3            & hotgirl      & 1            & 8.569064e+17\\\\\n",
       "\t 4            & love         & 1            & 8.569064e+17\\\\\n",
       "\t 5            & orgazm       & 1            & 8.569064e+17\\\\\n",
       "\\end{tabular}\n"
      ],
      "text/plain": [
       "  X hashtag  job_id tweet_id_str\n",
       "1 0 Redskins 1      8.569068e+17\n",
       "2 1 Missouri 1      8.569064e+17\n",
       "3 2 roleplay 1      8.569064e+17\n",
       "4 3 hotgirl  1      8.569064e+17\n",
       "5 4 love     1      8.569064e+17\n",
       "6 5 orgazm   1      8.569064e+17"
      ]
     },
     "metadata": {},
     "output_type": "display_data"
    },
    {
     "data": {
      "text/html": [
       "<table>\n",
       "<thead><tr><th scope=col>job_id</th><th scope=col>X</th><th scope=col>hashtag</th><th scope=col>tweet_id_str</th><th scope=col>query</th><th scope=col>name</th></tr></thead>\n",
       "<tbody>\n",
       "\t<tr><td>1           </td><td>0           </td><td>Redskins    </td><td>8.569068e+17</td><td>q=missouri  </td><td>missouri    </td></tr>\n",
       "\t<tr><td>1           </td><td>1           </td><td>Missouri    </td><td>8.569064e+17</td><td>q=missouri  </td><td>missouri    </td></tr>\n",
       "\t<tr><td>1           </td><td>2           </td><td>roleplay    </td><td>8.569064e+17</td><td>q=missouri  </td><td>missouri    </td></tr>\n",
       "\t<tr><td>1           </td><td>3           </td><td>hotgirl     </td><td>8.569064e+17</td><td>q=missouri  </td><td>missouri    </td></tr>\n",
       "\t<tr><td>1           </td><td>4           </td><td>love        </td><td>8.569064e+17</td><td>q=missouri  </td><td>missouri    </td></tr>\n",
       "\t<tr><td>1           </td><td>5           </td><td>orgazm      </td><td>8.569064e+17</td><td>q=missouri  </td><td>missouri    </td></tr>\n",
       "</tbody>\n",
       "</table>\n"
      ],
      "text/latex": [
       "\\begin{tabular}{r|llllll}\n",
       " job\\_id & X & hashtag & tweet\\_id\\_str & query & name\\\\\n",
       "\\hline\n",
       "\t 1            & 0            & Redskins     & 8.569068e+17 & q=missouri   & missouri    \\\\\n",
       "\t 1            & 1            & Missouri     & 8.569064e+17 & q=missouri   & missouri    \\\\\n",
       "\t 1            & 2            & roleplay     & 8.569064e+17 & q=missouri   & missouri    \\\\\n",
       "\t 1            & 3            & hotgirl      & 8.569064e+17 & q=missouri   & missouri    \\\\\n",
       "\t 1            & 4            & love         & 8.569064e+17 & q=missouri   & missouri    \\\\\n",
       "\t 1            & 5            & orgazm       & 8.569064e+17 & q=missouri   & missouri    \\\\\n",
       "\\end{tabular}\n"
      ],
      "text/plain": [
       "  job_id X hashtag  tweet_id_str query      name    \n",
       "1 1      0 Redskins 8.569068e+17 q=missouri missouri\n",
       "2 1      1 Missouri 8.569064e+17 q=missouri missouri\n",
       "3 1      2 roleplay 8.569064e+17 q=missouri missouri\n",
       "4 1      3 hotgirl  8.569064e+17 q=missouri missouri\n",
       "5 1      4 love     8.569064e+17 q=missouri missouri\n",
       "6 1      5 orgazm   8.569064e+17 q=missouri missouri"
      ]
     },
     "metadata": {},
     "output_type": "display_data"
    }
   ],
   "source": [
    "data <- read.table('hashtags.csv', sep=\"|\", header = TRUE)\n",
    "jobs <- read_csv('data/job.csv')\n",
    "head(jobs)\n",
    "head(data)\n",
    "\n",
    "nw_df <- merge(data, jobs)\n",
    "head(nw_df)\n"
   ]
  },
  {
   "cell_type": "code",
   "execution_count": 46,
   "metadata": {
    "collapsed": false
   },
   "outputs": [
    {
     "data": {
      "text/html": [
       "<table>\n",
       "<thead><tr><th scope=col>job_id</th><th scope=col>X</th><th scope=col>created_at</th><th scope=col>iso_language</th><th scope=col>source</th><th scope=col>text</th><th scope=col>tweet_id_str</th><th scope=col>query</th><th scope=col>name</th></tr></thead>\n",
       "<tbody>\n",
       "\t<tr><td>1                                                                                                                                           </td><td>0                                                                                                                                           </td><td>2017-04-25 16:24:45                                                                                                                         </td><td>en                                                                                                                                          </td><td>Twitter Web Client                                                                                                                          </td><td>#Redskins need to add to their pass rush. Missouri OLB Charles Harris is a good fit: \"I got here by sacking the QB\" https://t.co/pczMsqz509 </td><td>8.569068e+17                                                                                                                                </td><td>q=missouri                                                                                                                                  </td><td>missouri                                                                                                                                    </td></tr>\n",
       "\t<tr><td>1                                                                                                                                                                                       </td><td>1                                                                                                                                                                                       </td><td>2017-04-25 16:24:21                                                                                                                                                                     </td><td>en                                                                                                                                                                                      </td><td>Crowdfire - Go Big                                                                                                                                                                      </td><td><span style=white-space:pre-wrap>Missouri Cowboy Poets Association event - Story\n",
       "https://t.co/gVnymnjRM8&amp;amp; https://t.co/RwEUpgLN34                                       </span></td><td>8.569067e+17                                                                                                                                                                            </td><td>q=missouri                                                                                                                                                                              </td><td>missouri                                                                                                                                                                                </td></tr>\n",
       "\t<tr><td>1                                                                                                                                           </td><td>2                                                                                                                                           </td><td>2017-04-25 16:24:21                                                                                                                         </td><td>en                                                                                                                                          </td><td>Twitter for iPhone                                                                                                                          </td><td>@bmark5472 @ChrisBragdon @SwolenBrain @ebell_missouri @Ram09221956 @martyfeira @SamMorr83129601 I got called for jury duty, I'm hating today</td><td>8.569067e+17                                                                                                                                </td><td>q=missouri                                                                                                                                  </td><td>missouri                                                                                                                                    </td></tr>\n",
       "\t<tr><td>1                                                                                                                                           </td><td>3                                                                                                                                           </td><td>2017-04-25 16:24:10                                                                                                                         </td><td>en                                                                                                                                          </td><td>dlvr.it                                                                                                                                     </td><td>Lincoln University, State Tech still looking for core cuts https://t.co/ZZ347WIX0j                                                          </td><td>8.569067e+17                                                                                                                                </td><td>q=missouri                                                                                                                                  </td><td>missouri                                                                                                                                    </td></tr>\n",
       "\t<tr><td>1                                                                                                                                                                                       </td><td>4                                                                                                                                                                                       </td><td>2017-04-25 16:24:10                                                                                                                                                                     </td><td>en                                                                                                                                                                                      </td><td>Twitter for iPhone                                                                                                                                                                      </td><td><span style=white-space:pre-wrap>RT @notmagicscience: TEACHERS: Working &amp;amp; RETIRED. Pay ATTENTION Is Missouri’s Teacher Pension Next? https://t.co/mYzIrg48vn             </span></td><td>8.569067e+17                                                                                                                                                                            </td><td>q=missouri                                                                                                                                                                              </td><td>missouri                                                                                                                                                                                </td></tr>\n",
       "\t<tr><td>1                                                                                                                                           </td><td>5                                                                                                                                           </td><td>2017-04-25 16:24:06                                                                                                                         </td><td>en                                                                                                                                          </td><td>Twitter for iPhone                                                                                                                          </td><td>RT @kwoodschools: US News and World Report ranked @KirkwoodHS #5 in the state on the 2017 U.S. News Best High School list! Congrats! https:…</td><td>8.569067e+17                                                                                                                                </td><td>q=missouri                                                                                                                                  </td><td>missouri                                                                                                                                    </td></tr>\n",
       "</tbody>\n",
       "</table>\n"
      ],
      "text/latex": [
       "\\begin{tabular}{r|lllllllll}\n",
       " job\\_id & X & created\\_at & iso\\_language & source & text & tweet\\_id\\_str & query & name\\\\\n",
       "\\hline\n",
       "\t 1                                                                                                                                              & 0                                                                                                                                              & 2017-04-25 16:24:45                                                                                                                            & en                                                                                                                                             & Twitter Web Client                                                                                                                             & \\#Redskins need to add to their pass rush. Missouri OLB Charles Harris is a good fit: \"I got here by sacking the QB\" https://t.co/pczMsqz509  & 8.569068e+17                                                                                                                                   & q=missouri                                                                                                                                     & missouri                                                                                                                                      \\\\\n",
       "\t 1                                                                                                                                              & 1                                                                                                                                              & 2017-04-25 16:24:21                                                                                                                            & en                                                                                                                                             & Crowdfire - Go Big                                                                                                                             & Missouri Cowboy Poets Association event - Story\n",
       "https://t.co/gVnymnjRM8\\&amp; https://t.co/RwEUpgLN34                                        & 8.569067e+17                                                                                                                                   & q=missouri                                                                                                                                     & missouri                                                                                                                                      \\\\\n",
       "\t 1                                                                                                                                              & 2                                                                                                                                              & 2017-04-25 16:24:21                                                                                                                            & en                                                                                                                                             & Twitter for iPhone                                                                                                                             & @bmark5472 @ChrisBragdon @SwolenBrain @ebell\\_missouri @Ram09221956 @martyfeira @SamMorr83129601 I got called for jury duty, I'm hating today & 8.569067e+17                                                                                                                                   & q=missouri                                                                                                                                     & missouri                                                                                                                                      \\\\\n",
       "\t 1                                                                                                                                            & 3                                                                                                                                            & 2017-04-25 16:24:10                                                                                                                          & en                                                                                                                                           & dlvr.it                                                                                                                                      & Lincoln University, State Tech still looking for core cuts https://t.co/ZZ347WIX0j                                                           & 8.569067e+17                                                                                                                                 & q=missouri                                                                                                                                   & missouri                                                                                                                                    \\\\\n",
       "\t 1                                                                                                                                              & 4                                                                                                                                              & 2017-04-25 16:24:10                                                                                                                            & en                                                                                                                                             & Twitter for iPhone                                                                                                                             & RT @notmagicscience: TEACHERS: Working \\&amp; RETIRED. Pay ATTENTION Is Missouri’s Teacher Pension Next? https://t.co/mYzIrg48vn              & 8.569067e+17                                                                                                                                   & q=missouri                                                                                                                                     & missouri                                                                                                                                      \\\\\n",
       "\t 1                                                                                                                                              & 5                                                                                                                                              & 2017-04-25 16:24:06                                                                                                                            & en                                                                                                                                             & Twitter for iPhone                                                                                                                             & RT @kwoodschools: US News and World Report ranked @KirkwoodHS \\#5 in the state on the 2017 U.S. News Best High School list! Congrats! https:… & 8.569067e+17                                                                                                                                   & q=missouri                                                                                                                                     & missouri                                                                                                                                      \\\\\n",
       "\\end{tabular}\n"
      ],
      "text/plain": [
       "  job_id X created_at          iso_language source            \n",
       "1 1      0 2017-04-25 16:24:45 en           Twitter Web Client\n",
       "2 1      1 2017-04-25 16:24:21 en           Crowdfire - Go Big\n",
       "3 1      2 2017-04-25 16:24:21 en           Twitter for iPhone\n",
       "4 1      3 2017-04-25 16:24:10 en           dlvr.it           \n",
       "5 1      4 2017-04-25 16:24:10 en           Twitter for iPhone\n",
       "6 1      5 2017-04-25 16:24:06 en           Twitter for iPhone\n",
       "  text                                                                                                                                        \n",
       "1 #Redskins need to add to their pass rush. Missouri OLB Charles Harris is a good fit: \"I got here by sacking the QB\" https://t.co/pczMsqz509 \n",
       "2 Missouri Cowboy Poets Association event - Story\\nhttps://t.co/gVnymnjRM8&amp; https://t.co/RwEUpgLN34                                       \n",
       "3 @bmark5472 @ChrisBragdon @SwolenBrain @ebell_missouri @Ram09221956 @martyfeira @SamMorr83129601 I got called for jury duty, I'm hating today\n",
       "4 Lincoln University, State Tech still looking for core cuts https://t.co/ZZ347WIX0j                                                          \n",
       "5 RT @notmagicscience: TEACHERS: Working &amp; RETIRED. Pay ATTENTION Is Missouri’s Teacher Pension Next? https://t.co/mYzIrg48vn             \n",
       "6 RT @kwoodschools: US News and World Report ranked @KirkwoodHS #5 in the state on the 2017 U.S. News Best High School list! Congrats! https:…\n",
       "  tweet_id_str query      name    \n",
       "1 8.569068e+17 q=missouri missouri\n",
       "2 8.569067e+17 q=missouri missouri\n",
       "3 8.569067e+17 q=missouri missouri\n",
       "4 8.569067e+17 q=missouri missouri\n",
       "5 8.569067e+17 q=missouri missouri\n",
       "6 8.569067e+17 q=missouri missouri"
      ]
     },
     "metadata": {},
     "output_type": "display_data"
    }
   ],
   "source": [
    "new <- read.csv('tweets1.csv', sep=\"|\")\n",
    "tweets <- merge(new, jobs)\n",
    "head(tweets)"
   ]
  },
  {
   "cell_type": "code",
   "execution_count": 27,
   "metadata": {
    "collapsed": false
   },
   "outputs": [
    {
     "data": {
      "text/html": [
       "<table>\n",
       "<thead><tr><th></th><th scope=col>job_id</th><th scope=col>X</th><th scope=col>hashtag</th><th scope=col>tweet_id_str</th><th scope=col>query</th><th scope=col>name</th></tr></thead>\n",
       "<tbody>\n",
       "\t<tr><th scope=row>224</th><td>4             </td><td>223           </td><td>London        </td><td>8.569069e+17  </td><td>q=london      </td><td>london        </td></tr>\n",
       "\t<tr><th scope=row>225</th><td>4             </td><td>224           </td><td>elrow         </td><td>8.569068e+17  </td><td>q=london      </td><td>london        </td></tr>\n",
       "\t<tr><th scope=row>226</th><td>4             </td><td>225           </td><td>CoDWWII       </td><td>8.569068e+17  </td><td>q=london      </td><td>london        </td></tr>\n",
       "\t<tr><th scope=row>227</th><td>4             </td><td>226           </td><td>LondonMarathon</td><td>8.569068e+17  </td><td>q=london      </td><td>london        </td></tr>\n",
       "\t<tr><th scope=row>228</th><td>4             </td><td>227           </td><td>Somaliland    </td><td>8.569068e+17  </td><td>q=london      </td><td>london        </td></tr>\n",
       "\t<tr><th scope=row>229</th><td>4             </td><td>228           </td><td>Canada150     </td><td>8.569068e+17  </td><td>q=london      </td><td>london        </td></tr>\n",
       "</tbody>\n",
       "</table>\n"
      ],
      "text/latex": [
       "\\begin{tabular}{r|llllll}\n",
       "  & job\\_id & X & hashtag & tweet\\_id\\_str & query & name\\\\\n",
       "\\hline\n",
       "\t224 & 4              & 223            & London         & 8.569069e+17   & q=london       & london        \\\\\n",
       "\t225 & 4              & 224            & elrow          & 8.569068e+17   & q=london       & london        \\\\\n",
       "\t226 & 4              & 225            & CoDWWII        & 8.569068e+17   & q=london       & london        \\\\\n",
       "\t227 & 4              & 226            & LondonMarathon & 8.569068e+17   & q=london       & london        \\\\\n",
       "\t228 & 4              & 227            & Somaliland     & 8.569068e+17   & q=london       & london        \\\\\n",
       "\t229 & 4              & 228            & Canada150      & 8.569068e+17   & q=london       & london        \\\\\n",
       "\\end{tabular}\n"
      ],
      "text/plain": [
       "    job_id X   hashtag        tweet_id_str query    name  \n",
       "224 4      223 London         8.569069e+17 q=london london\n",
       "225 4      224 elrow          8.569068e+17 q=london london\n",
       "226 4      225 CoDWWII        8.569068e+17 q=london london\n",
       "227 4      226 LondonMarathon 8.569068e+17 q=london london\n",
       "228 4      227 Somaliland     8.569068e+17 q=london london\n",
       "229 4      228 Canada150      8.569068e+17 q=london london"
      ]
     },
     "metadata": {},
     "output_type": "display_data"
    }
   ],
   "source": [
    "mo <- nw_df[nw_df$job_id == 1,]\n",
    "tx <- nw_df[nw_df$job_id == 2,]\n",
    "ca <- nw_df[nw_df$job_id == 3,]\n",
    "london <- nw_df[nw_df$job_id == 4,]\n",
    "france <- nw_df[nw_df$job_id == 5,]\n",
    "head(london)"
   ]
  },
  {
   "cell_type": "code",
   "execution_count": null,
   "metadata": {
    "collapsed": true
   },
   "outputs": [],
   "source": [
    "for id in data : \n",
    "    MO = data[data$job_id == 1,]"
   ]
  },
  {
   "cell_type": "code",
   "execution_count": 76,
   "metadata": {
    "collapsed": false
   },
   "outputs": [
    {
     "data": {
      "image/png": "[encoded data removed]",
      "text/plain": [
       "plot without title"
      ]
     },
     "metadata": {},
     "output_type": "display_data"
    }
   ],
   "source": [
    "words <- nw_df$hashtag\n",
    "wordcloud(words)"
   ]
  },
  {
   "cell_type": "code",
   "execution_count": null,
   "metadata": {
    "collapsed": true
   },
   "outputs": [],
   "source": []
  },
  {
   "cell_type": "code",
   "execution_count": 51,
   "metadata": {
    "collapsed": false,
    "scrolled": true
   },
   "outputs": [
    {
     "name": "stderr",
     "output_type": "stream",
     "text": [
      "Joining, by = \"hashtag\"\n"
     ]
    },
    {
     "data": {
      "text/html": [
       "<table>\n",
       "<thead><tr><th scope=col>name</th><th scope=col>hashtag</th><th scope=col>n</th><th scope=col>total</th></tr></thead>\n",
       "<tbody>\n",
       "\t<tr><td>missouri           </td><td>Missouri           </td><td>6                  </td><td>6                  </td></tr>\n",
       "\t<tr><td>missouri           </td><td>HeartWalkSGF       </td><td>2                  </td><td>2                  </td></tr>\n",
       "\t<tr><td>missouri           </td><td>Hiring             </td><td>2                  </td><td>2                  </td></tr>\n",
       "\t<tr><td>missouri           </td><td>InTheNews          </td><td>2                  </td><td>2                  </td></tr>\n",
       "\t<tr><td>missouri           </td><td>job                </td><td>2                  </td><td>2                  </td></tr>\n",
       "\t<tr><td>missouri           </td><td>Kansas             </td><td>2                  </td><td>2                  </td></tr>\n",
       "\t<tr><td>missouri           </td><td>missouri           </td><td>2                  </td><td>2                  </td></tr>\n",
       "\t<tr><td>missouri           </td><td>MissouriHomeMatters</td><td>2                  </td><td>2                  </td></tr>\n",
       "\t<tr><td>missouri           </td><td>MoLeg              </td><td>2                  </td><td>2                  </td></tr>\n",
       "\t<tr><td>missouri           </td><td>NeilGorsuch        </td><td>2                  </td><td>2                  </td></tr>\n",
       "\t<tr><td>missouri           </td><td>PAT                </td><td>2                  </td><td>2                  </td></tr>\n",
       "\t<tr><td>missouri           </td><td>Valparaiso         </td><td>2                  </td><td>2                  </td></tr>\n",
       "\t<tr><td>missouri           </td><td>agriculture        </td><td>1                  </td><td>1                  </td></tr>\n",
       "\t<tr><td>missouri           </td><td>BearcatRoar        </td><td>1                  </td><td>1                  </td></tr>\n",
       "\t<tr><td>missouri           </td><td>Borger             </td><td>1                  </td><td>1                  </td></tr>\n",
       "\t<tr><td>missouri           </td><td>constantcontact    </td><td>1                  </td><td>1                  </td></tr>\n",
       "\t<tr><td>missouri           </td><td>CPR                </td><td>1                  </td><td>1                  </td></tr>\n",
       "\t<tr><td>missouri           </td><td>EarthDay           </td><td>1                  </td><td>1                  </td></tr>\n",
       "\t<tr><td>missouri           </td><td>funlake            </td><td>1                  </td><td>1                  </td></tr>\n",
       "\t<tr><td>missouri           </td><td>GiraLTDN2017       </td><td>1                  </td><td>1                  </td></tr>\n",
       "\t<tr><td>missouri           </td><td>Homeloans          </td><td>1                  </td><td>1                  </td></tr>\n",
       "\t<tr><td>missouri           </td><td>hotgirl            </td><td>1                  </td><td>1                  </td></tr>\n",
       "\t<tr><td>missouri           </td><td>ilwx               </td><td>1                  </td><td>1                  </td></tr>\n",
       "\t<tr><td>missouri           </td><td>kansascity         </td><td>1                  </td><td>1                  </td></tr>\n",
       "\t<tr><td>missouri           </td><td>LakeoftheOzarks    </td><td>1                  </td><td>1                  </td></tr>\n",
       "\t<tr><td>missouri           </td><td>listing            </td><td>1                  </td><td>1                  </td></tr>\n",
       "\t<tr><td>missouri           </td><td>love               </td><td>1                  </td><td>1                  </td></tr>\n",
       "\t<tr><td>missouri           </td><td>missingperson      </td><td>1                  </td><td>1                  </td></tr>\n",
       "\t<tr><td>missouri           </td><td>moleg              </td><td>1                  </td><td>1                  </td></tr>\n",
       "\t<tr><td>missouri           </td><td>MOleg              </td><td>1                  </td><td>1                  </td></tr>\n",
       "\t<tr><td>missouri           </td><td>mowx               </td><td>1                  </td><td>1                  </td></tr>\n",
       "\t<tr><td>missouri           </td><td>Nursing            </td><td>1                  </td><td>1                  </td></tr>\n",
       "\t<tr><td>missouri           </td><td>orgazm             </td><td>1                  </td><td>1                  </td></tr>\n",
       "\t<tr><td>missouri           </td><td>Redskins           </td><td>1                  </td><td>1                  </td></tr>\n",
       "\t<tr><td>missouri           </td><td>roleplay           </td><td>1                  </td><td>1                  </td></tr>\n",
       "\t<tr><td>missouri           </td><td>Rolla              </td><td>1                  </td><td>1                  </td></tr>\n",
       "\t<tr><td>missouri           </td><td>SCOMO              </td><td>1                  </td><td>1                  </td></tr>\n",
       "\t<tr><td>missouri           </td><td>SCOTUS             </td><td>1                  </td><td>1                  </td></tr>\n",
       "\t<tr><td>missouri           </td><td>StLouis            </td><td>1                  </td><td>1                  </td></tr>\n",
       "\t<tr><td>missouri           </td><td>stlwx              </td><td>1                  </td><td>1                  </td></tr>\n",
       "\t<tr><td>missouri           </td><td>TX                 </td><td>1                  </td><td>1                  </td></tr>\n",
       "\t<tr><td>missouri           </td><td>VaccinesWork       </td><td>1                  </td><td>1                  </td></tr>\n",
       "\t<tr><td>missouri           </td><td>WWEKansasCity      </td><td>1                  </td><td>1                  </td></tr>\n",
       "</tbody>\n",
       "</table>\n"
      ],
      "text/latex": [
       "\\begin{tabular}{r|llll}\n",
       " name & hashtag & n & total\\\\\n",
       "\\hline\n",
       "\t missouri            & Missouri            & 6                   & 6                  \\\\\n",
       "\t missouri            & HeartWalkSGF        & 2                   & 2                  \\\\\n",
       "\t missouri            & Hiring              & 2                   & 2                  \\\\\n",
       "\t missouri            & InTheNews           & 2                   & 2                  \\\\\n",
       "\t missouri            & job                 & 2                   & 2                  \\\\\n",
       "\t missouri            & Kansas              & 2                   & 2                  \\\\\n",
       "\t missouri            & missouri            & 2                   & 2                  \\\\\n",
       "\t missouri            & MissouriHomeMatters & 2                   & 2                  \\\\\n",
       "\t missouri            & MoLeg               & 2                   & 2                  \\\\\n",
       "\t missouri            & NeilGorsuch         & 2                   & 2                  \\\\\n",
       "\t missouri            & PAT                 & 2                   & 2                  \\\\\n",
       "\t missouri            & Valparaiso          & 2                   & 2                  \\\\\n",
       "\t missouri            & agriculture         & 1                   & 1                  \\\\\n",
       "\t missouri            & BearcatRoar         & 1                   & 1                  \\\\\n",
       "\t missouri            & Borger              & 1                   & 1                  \\\\\n",
       "\t missouri            & constantcontact     & 1                   & 1                  \\\\\n",
       "\t missouri            & CPR                 & 1                   & 1                  \\\\\n",
       "\t missouri            & EarthDay            & 1                   & 1                  \\\\\n",
       "\t missouri            & funlake             & 1                   & 1                  \\\\\n",
       "\t missouri            & GiraLTDN2017        & 1                   & 1                  \\\\\n",
       "\t missouri            & Homeloans           & 1                   & 1                  \\\\\n",
       "\t missouri            & hotgirl             & 1                   & 1                  \\\\\n",
       "\t missouri            & ilwx                & 1                   & 1                  \\\\\n",
       "\t missouri            & kansascity          & 1                   & 1                  \\\\\n",
       "\t missouri            & LakeoftheOzarks     & 1                   & 1                  \\\\\n",
       "\t missouri            & listing             & 1                   & 1                  \\\\\n",
       "\t missouri            & love                & 1                   & 1                  \\\\\n",
       "\t missouri            & missingperson       & 1                   & 1                  \\\\\n",
       "\t missouri            & moleg               & 1                   & 1                  \\\\\n",
       "\t missouri            & MOleg               & 1                   & 1                  \\\\\n",
       "\t missouri            & mowx                & 1                   & 1                  \\\\\n",
       "\t missouri            & Nursing             & 1                   & 1                  \\\\\n",
       "\t missouri            & orgazm              & 1                   & 1                  \\\\\n",
       "\t missouri            & Redskins            & 1                   & 1                  \\\\\n",
       "\t missouri            & roleplay            & 1                   & 1                  \\\\\n",
       "\t missouri            & Rolla               & 1                   & 1                  \\\\\n",
       "\t missouri            & SCOMO               & 1                   & 1                  \\\\\n",
       "\t missouri            & SCOTUS              & 1                   & 1                  \\\\\n",
       "\t missouri            & StLouis             & 1                   & 1                  \\\\\n",
       "\t missouri            & stlwx               & 1                   & 1                  \\\\\n",
       "\t missouri            & TX                  & 1                   & 1                  \\\\\n",
       "\t missouri            & VaccinesWork        & 1                   & 1                  \\\\\n",
       "\t missouri            & WWEKansasCity       & 1                   & 1                  \\\\\n",
       "\\end{tabular}\n"
      ],
      "text/plain": [
       "   name     hashtag             n total\n",
       "1  missouri Missouri            6 6    \n",
       "2  missouri HeartWalkSGF        2 2    \n",
       "3  missouri Hiring              2 2    \n",
       "4  missouri InTheNews           2 2    \n",
       "5  missouri job                 2 2    \n",
       "6  missouri Kansas              2 2    \n",
       "7  missouri missouri            2 2    \n",
       "8  missouri MissouriHomeMatters 2 2    \n",
       "9  missouri MoLeg               2 2    \n",
       "10 missouri NeilGorsuch         2 2    \n",
       "11 missouri PAT                 2 2    \n",
       "12 missouri Valparaiso          2 2    \n",
       "13 missouri agriculture         1 1    \n",
       "14 missouri BearcatRoar         1 1    \n",
       "15 missouri Borger              1 1    \n",
       "16 missouri constantcontact     1 1    \n",
       "17 missouri CPR                 1 1    \n",
       "18 missouri EarthDay            1 1    \n",
       "19 missouri funlake             1 1    \n",
       "20 missouri GiraLTDN2017        1 1    \n",
       "21 missouri Homeloans           1 1    \n",
       "22 missouri hotgirl             1 1    \n",
       "23 missouri ilwx                1 1    \n",
       "24 missouri kansascity          1 1    \n",
       "25 missouri LakeoftheOzarks     1 1    \n",
       "26 missouri listing             1 1    \n",
       "27 missouri love                1 1    \n",
       "28 missouri missingperson       1 1    \n",
       "29 missouri moleg               1 1    \n",
       "30 missouri MOleg               1 1    \n",
       "31 missouri mowx                1 1    \n",
       "32 missouri Nursing             1 1    \n",
       "33 missouri orgazm              1 1    \n",
       "34 missouri Redskins            1 1    \n",
       "35 missouri roleplay            1 1    \n",
       "36 missouri Rolla               1 1    \n",
       "37 missouri SCOMO               1 1    \n",
       "38 missouri SCOTUS              1 1    \n",
       "39 missouri StLouis             1 1    \n",
       "40 missouri stlwx               1 1    \n",
       "41 missouri TX                  1 1    \n",
       "42 missouri VaccinesWork        1 1    \n",
       "43 missouri WWEKansasCity       1 1    "
      ]
     },
     "metadata": {},
     "output_type": "display_data"
    }
   ],
   "source": [
    "library(dplyr)\n",
    "library(tidytext)\n",
    "\n",
    "words <- mo %>%\n",
    "  count(name, hashtag, sort = TRUE) %>%\n",
    "  ungroup()\n",
    "\n",
    "total_words <- words %>% \n",
    "  group_by(hashtag) %>% \n",
    "  summarize(total = sum(n))\n",
    "\n",
    "mo_hash <- left_join(words, total_words)\n",
    "\n",
    "mo_hash"
   ]
  },
  {
   "cell_type": "code",
   "execution_count": 30,
   "metadata": {
    "collapsed": false,
    "scrolled": true
   },
   "outputs": [
    {
     "name": "stderr",
     "output_type": "stream",
     "text": [
      "Joining, by = \"name\"\n"
     ]
    },
    {
     "data": {
      "text/html": [
       "<table>\n",
       "<thead><tr><th scope=col>name</th><th scope=col>hashtag</th><th scope=col>n</th><th scope=col>total</th></tr></thead>\n",
       "<tbody>\n",
       "\t<tr><td>texas         </td><td>Texas         </td><td>7             </td><td>42            </td></tr>\n",
       "\t<tr><td>texas         </td><td>okstate       </td><td>2             </td><td>42            </td></tr>\n",
       "\t<tr><td>texas         </td><td>Administrative</td><td>1             </td><td>42            </td></tr>\n",
       "\t<tr><td>texas         </td><td>AmericasGP    </td><td>1             </td><td>42            </td></tr>\n",
       "\t<tr><td>texas         </td><td>bdcnews       </td><td>1             </td><td>42            </td></tr>\n",
       "\t<tr><td>texas         </td><td>BNEFsummit    </td><td>1             </td><td>42            </td></tr>\n",
       "\t<tr><td>texas         </td><td>brownsville   </td><td>1             </td><td>42            </td></tr>\n",
       "\t<tr><td>texas         </td><td>BuildTheWall  </td><td>1             </td><td>42            </td></tr>\n",
       "\t<tr><td>texas         </td><td>Cats          </td><td>1             </td><td>42            </td></tr>\n",
       "\t<tr><td>texas         </td><td>companion     </td><td>1             </td><td>42            </td></tr>\n",
       "\t<tr><td>texas         </td><td>diabetes      </td><td>1             </td><td>42            </td></tr>\n",
       "\t<tr><td>texas         </td><td>Dogs          </td><td>1             </td><td>42            </td></tr>\n",
       "\t<tr><td>texas         </td><td>dragonsquad   </td><td>1             </td><td>42            </td></tr>\n",
       "\t<tr><td>texas         </td><td>Flood         </td><td>1             </td><td>42            </td></tr>\n",
       "\t<tr><td>texas         </td><td>Flooding      </td><td>1             </td><td>42            </td></tr>\n",
       "\t<tr><td>texas         </td><td>harlingen     </td><td>1             </td><td>42            </td></tr>\n",
       "\t<tr><td>texas         </td><td>instagood     </td><td>1             </td><td>42            </td></tr>\n",
       "\t<tr><td>texas         </td><td>JakeBase      </td><td>1             </td><td>42            </td></tr>\n",
       "\t<tr><td>texas         </td><td>job           </td><td>1             </td><td>42            </td></tr>\n",
       "\t<tr><td>texas         </td><td>lamojarritagtz</td><td>1             </td><td>42            </td></tr>\n",
       "\t<tr><td>texas         </td><td>laredo        </td><td>1             </td><td>42            </td></tr>\n",
       "\t<tr><td>texas         </td><td>Laredo        </td><td>1             </td><td>42            </td></tr>\n",
       "\t<tr><td>texas         </td><td>maddow        </td><td>1             </td><td>42            </td></tr>\n",
       "\t<tr><td>texas         </td><td>mcallen       </td><td>1             </td><td>42            </td></tr>\n",
       "\t<tr><td>texas         </td><td>Mocoa         </td><td>1             </td><td>42            </td></tr>\n",
       "\t<tr><td>texas         </td><td>News          </td><td>1             </td><td>42            </td></tr>\n",
       "\t<tr><td>texas         </td><td>nudes         </td><td>1             </td><td>42            </td></tr>\n",
       "\t<tr><td>texas         </td><td>orgy          </td><td>1             </td><td>42            </td></tr>\n",
       "\t<tr><td>texas         </td><td>Raleigh       </td><td>1             </td><td>42            </td></tr>\n",
       "\t<tr><td>texas         </td><td>rgv           </td><td>1             </td><td>42            </td></tr>\n",
       "\t<tr><td>texas         </td><td>RT            </td><td>1             </td><td>42            </td></tr>\n",
       "\t<tr><td>texas         </td><td>SugarLand     </td><td>1             </td><td>42            </td></tr>\n",
       "\t<tr><td>texas         </td><td>Texans        </td><td>1             </td><td>42            </td></tr>\n",
       "\t<tr><td>texas         </td><td>Type1         </td><td>1             </td><td>42            </td></tr>\n",
       "\t<tr><td>texas         </td><td>Zika          </td><td>1             </td><td>42            </td></tr>\n",
       "</tbody>\n",
       "</table>\n"
      ],
      "text/latex": [
       "\\begin{tabular}{r|llll}\n",
       " name & hashtag & n & total\\\\\n",
       "\\hline\n",
       "\t texas          & Texas          & 7              & 42            \\\\\n",
       "\t texas          & okstate        & 2              & 42            \\\\\n",
       "\t texas          & Administrative & 1              & 42            \\\\\n",
       "\t texas          & AmericasGP     & 1              & 42            \\\\\n",
       "\t texas          & bdcnews        & 1              & 42            \\\\\n",
       "\t texas          & BNEFsummit     & 1              & 42            \\\\\n",
       "\t texas          & brownsville    & 1              & 42            \\\\\n",
       "\t texas          & BuildTheWall   & 1              & 42            \\\\\n",
       "\t texas          & Cats           & 1              & 42            \\\\\n",
       "\t texas          & companion      & 1              & 42            \\\\\n",
       "\t texas          & diabetes       & 1              & 42            \\\\\n",
       "\t texas          & Dogs           & 1              & 42            \\\\\n",
       "\t texas          & dragonsquad    & 1              & 42            \\\\\n",
       "\t texas          & Flood          & 1              & 42            \\\\\n",
       "\t texas          & Flooding       & 1              & 42            \\\\\n",
       "\t texas          & harlingen      & 1              & 42            \\\\\n",
       "\t texas          & instagood      & 1              & 42            \\\\\n",
       "\t texas          & JakeBase       & 1              & 42            \\\\\n",
       "\t texas          & job            & 1              & 42            \\\\\n",
       "\t texas          & lamojarritagtz & 1              & 42            \\\\\n",
       "\t texas          & laredo         & 1              & 42            \\\\\n",
       "\t texas          & Laredo         & 1              & 42            \\\\\n",
       "\t texas          & maddow         & 1              & 42            \\\\\n",
       "\t texas          & mcallen        & 1              & 42            \\\\\n",
       "\t texas          & Mocoa          & 1              & 42            \\\\\n",
       "\t texas          & News           & 1              & 42            \\\\\n",
       "\t texas          & nudes          & 1              & 42            \\\\\n",
       "\t texas          & orgy           & 1              & 42            \\\\\n",
       "\t texas          & Raleigh        & 1              & 42            \\\\\n",
       "\t texas          & rgv            & 1              & 42            \\\\\n",
       "\t texas          & RT             & 1              & 42            \\\\\n",
       "\t texas          & SugarLand      & 1              & 42            \\\\\n",
       "\t texas          & Texans         & 1              & 42            \\\\\n",
       "\t texas          & Type1          & 1              & 42            \\\\\n",
       "\t texas          & Zika           & 1              & 42            \\\\\n",
       "\\end{tabular}\n"
      ],
      "text/plain": [
       "   name  hashtag        n total\n",
       "1  texas Texas          7 42   \n",
       "2  texas okstate        2 42   \n",
       "3  texas Administrative 1 42   \n",
       "4  texas AmericasGP     1 42   \n",
       "5  texas bdcnews        1 42   \n",
       "6  texas BNEFsummit     1 42   \n",
       "7  texas brownsville    1 42   \n",
       "8  texas BuildTheWall   1 42   \n",
       "9  texas Cats           1 42   \n",
       "10 texas companion      1 42   \n",
       "11 texas diabetes       1 42   \n",
       "12 texas Dogs           1 42   \n",
       "13 texas dragonsquad    1 42   \n",
       "14 texas Flood          1 42   \n",
       "15 texas Flooding       1 42   \n",
       "16 texas harlingen      1 42   \n",
       "17 texas instagood      1 42   \n",
       "18 texas JakeBase       1 42   \n",
       "19 texas job            1 42   \n",
       "20 texas lamojarritagtz 1 42   \n",
       "21 texas laredo         1 42   \n",
       "22 texas Laredo         1 42   \n",
       "23 texas maddow         1 42   \n",
       "24 texas mcallen        1 42   \n",
       "25 texas Mocoa          1 42   \n",
       "26 texas News           1 42   \n",
       "27 texas nudes          1 42   \n",
       "28 texas orgy           1 42   \n",
       "29 texas Raleigh        1 42   \n",
       "30 texas rgv            1 42   \n",
       "31 texas RT             1 42   \n",
       "32 texas SugarLand      1 42   \n",
       "33 texas Texans         1 42   \n",
       "34 texas Type1          1 42   \n",
       "35 texas Zika           1 42   "
      ]
     },
     "metadata": {},
     "output_type": "display_data"
    }
   ],
   "source": [
    "words <- tx %>%\n",
    "  count(name, hashtag, sort = TRUE) %>%\n",
    "  ungroup()\n",
    "\n",
    "total_words <- words %>% \n",
    "  group_by(name) %>% \n",
    "  summarize(total = sum(n))\n",
    "\n",
    "tx_hash <- left_join(words, total_words)\n",
    "\n",
    "tx_hash"
   ]
  },
  {
   "cell_type": "code",
   "execution_count": 31,
   "metadata": {
    "collapsed": false
   },
   "outputs": [
    {
     "name": "stderr",
     "output_type": "stream",
     "text": [
      "Joining, by = \"name\"\n"
     ]
    },
    {
     "data": {
      "text/html": [
       "<table>\n",
       "<thead><tr><th scope=col>name</th><th scope=col>hashtag</th><th scope=col>n</th><th scope=col>total</th></tr></thead>\n",
       "<tbody>\n",
       "\t<tr><td>california            </td><td>CounterExtremismVision</td><td>19                    </td><td>122                   </td></tr>\n",
       "\t<tr><td>california            </td><td>Calexit               </td><td>18                    </td><td>122                   </td></tr>\n",
       "\t<tr><td>california            </td><td>California            </td><td> 9                    </td><td>122                   </td></tr>\n",
       "\t<tr><td>california            </td><td>california            </td><td> 3                    </td><td>122                   </td></tr>\n",
       "\t<tr><td>california            </td><td>BestHighSchools       </td><td> 2                    </td><td>122                   </td></tr>\n",
       "\t<tr><td>california            </td><td>education             </td><td> 2                    </td><td>122                   </td></tr>\n",
       "\t<tr><td>california            </td><td>QueMañana             </td><td> 2                    </td><td>122                   </td></tr>\n",
       "\t<tr><td>california            </td><td>SanDiego              </td><td> 2                    </td><td>122                   </td></tr>\n",
       "\t<tr><td>california            </td><td>TheBlackRosesTour     </td><td> 2                    </td><td>122                   </td></tr>\n",
       "\t<tr><td>california            </td><td>travel                </td><td> 2                    </td><td>122                   </td></tr>\n",
       "\t<tr><td>california            </td><td>5Star                 </td><td> 1                    </td><td>122                   </td></tr>\n",
       "\t<tr><td>california            </td><td>AB1612                </td><td> 1                    </td><td>122                   </td></tr>\n",
       "\t<tr><td>california            </td><td>AB42                  </td><td> 1                    </td><td>122                   </td></tr>\n",
       "\t<tr><td>california            </td><td>antiques              </td><td> 1                    </td><td>122                   </td></tr>\n",
       "\t<tr><td>california            </td><td>Attorney              </td><td> 1                    </td><td>122                   </td></tr>\n",
       "\t<tr><td>california            </td><td>BailReform            </td><td> 1                    </td><td>122                   </td></tr>\n",
       "\t<tr><td>california            </td><td>battlegrounds         </td><td> 1                    </td><td>122                   </td></tr>\n",
       "\t<tr><td>california            </td><td>californiapoppies     </td><td> 1                    </td><td>122                   </td></tr>\n",
       "\t<tr><td>california            </td><td>caravan               </td><td> 1                    </td><td>122                   </td></tr>\n",
       "\t<tr><td>california            </td><td>caravaning            </td><td> 1                    </td><td>122                   </td></tr>\n",
       "\t<tr><td>california            </td><td>cdwsocial             </td><td> 1                    </td><td>122                   </td></tr>\n",
       "\t<tr><td>california            </td><td>Cherries              </td><td> 1                    </td><td>122                   </td></tr>\n",
       "\t<tr><td>california            </td><td>childabuse            </td><td> 1                    </td><td>122                   </td></tr>\n",
       "\t<tr><td>california            </td><td>Criminal              </td><td> 1                    </td><td>122                   </td></tr>\n",
       "\t<tr><td>california            </td><td>desertgenerator       </td><td> 1                    </td><td>122                   </td></tr>\n",
       "\t<tr><td>california            </td><td>destination           </td><td> 1                    </td><td>122                   </td></tr>\n",
       "\t<tr><td>california            </td><td>digitaldivide         </td><td> 1                    </td><td>122                   </td></tr>\n",
       "\t<tr><td>california            </td><td>dodge                 </td><td> 1                    </td><td>122                   </td></tr>\n",
       "\t<tr><td>california            </td><td>drought               </td><td> 1                    </td><td>122                   </td></tr>\n",
       "\t<tr><td>california            </td><td>DuckCurve             </td><td> 1                    </td><td>122                   </td></tr>\n",
       "\t<tr><td>⋮</td><td>⋮</td><td>⋮</td><td>⋮</td></tr>\n",
       "\t<tr><td>california      </td><td>Imadeyourclothes</td><td>1               </td><td>122             </td></tr>\n",
       "\t<tr><td>california      </td><td>Immigrants      </td><td>1               </td><td>122             </td></tr>\n",
       "\t<tr><td>california      </td><td>Immigration     </td><td>1               </td><td>122             </td></tr>\n",
       "\t<tr><td>california      </td><td>indiedesigner   </td><td>1               </td><td>122             </td></tr>\n",
       "\t<tr><td>california      </td><td>ironyoftheyear  </td><td>1               </td><td>122             </td></tr>\n",
       "\t<tr><td>california      </td><td>Justice         </td><td>1               </td><td>122             </td></tr>\n",
       "\t<tr><td>california      </td><td>kitchenware     </td><td>1               </td><td>122             </td></tr>\n",
       "\t<tr><td>california      </td><td>laborshortages  </td><td>1               </td><td>122             </td></tr>\n",
       "\t<tr><td>california      </td><td>Law             </td><td>1               </td><td>122             </td></tr>\n",
       "\t<tr><td>california      </td><td>may20           </td><td>1               </td><td>122             </td></tr>\n",
       "\t<tr><td>california      </td><td>missvelvetcream </td><td>1               </td><td>122             </td></tr>\n",
       "\t<tr><td>california      </td><td>Monterey        </td><td>1               </td><td>122             </td></tr>\n",
       "\t<tr><td>california      </td><td>nonprofits      </td><td>1               </td><td>122             </td></tr>\n",
       "\t<tr><td>california      </td><td>oldstuff        </td><td>1               </td><td>122             </td></tr>\n",
       "\t<tr><td>california      </td><td>penstemon       </td><td>1               </td><td>122             </td></tr>\n",
       "\t<tr><td>california      </td><td>politicians     </td><td>1               </td><td>122             </td></tr>\n",
       "\t<tr><td>california      </td><td>quote           </td><td>1               </td><td>122             </td></tr>\n",
       "\t<tr><td>california      </td><td>roadtrip        </td><td>1               </td><td>122             </td></tr>\n",
       "\t<tr><td>california      </td><td>rollingheavy    </td><td>1               </td><td>122             </td></tr>\n",
       "\t<tr><td>california      </td><td>SaveUSA         </td><td>1               </td><td>122             </td></tr>\n",
       "\t<tr><td>california      </td><td>SB10            </td><td>1               </td><td>122             </td></tr>\n",
       "\t<tr><td>california      </td><td>SB562           </td><td>1               </td><td>122             </td></tr>\n",
       "\t<tr><td>california      </td><td>sodabottle      </td><td>1               </td><td>122             </td></tr>\n",
       "\t<tr><td>california      </td><td>suck            </td><td>1               </td><td>122             </td></tr>\n",
       "\t<tr><td>california      </td><td>tags            </td><td>1               </td><td>122             </td></tr>\n",
       "\t<tr><td>california      </td><td>ThomasEdison    </td><td>1               </td><td>122             </td></tr>\n",
       "\t<tr><td>california      </td><td>van             </td><td>1               </td><td>122             </td></tr>\n",
       "\t<tr><td>california      </td><td>vannin          </td><td>1               </td><td>122             </td></tr>\n",
       "\t<tr><td>california      </td><td>VisitBurbank    </td><td>1               </td><td>122             </td></tr>\n",
       "\t<tr><td>california      </td><td>VoiceofWipro    </td><td>1               </td><td>122             </td></tr>\n",
       "</tbody>\n",
       "</table>\n"
      ],
      "text/latex": [
       "\\begin{tabular}{r|llll}\n",
       " name & hashtag & n & total\\\\\n",
       "\\hline\n",
       "\t california             & CounterExtremismVision & 19                     & 122                   \\\\\n",
       "\t california             & Calexit                & 18                     & 122                   \\\\\n",
       "\t california             & California             &  9                     & 122                   \\\\\n",
       "\t california             & california             &  3                     & 122                   \\\\\n",
       "\t california             & BestHighSchools        &  2                     & 122                   \\\\\n",
       "\t california             & education              &  2                     & 122                   \\\\\n",
       "\t california             & QueMañana              &  2                     & 122                   \\\\\n",
       "\t california             & SanDiego               &  2                     & 122                   \\\\\n",
       "\t california             & TheBlackRosesTour      &  2                     & 122                   \\\\\n",
       "\t california             & travel                 &  2                     & 122                   \\\\\n",
       "\t california             & 5Star                  &  1                     & 122                   \\\\\n",
       "\t california             & AB1612                 &  1                     & 122                   \\\\\n",
       "\t california             & AB42                   &  1                     & 122                   \\\\\n",
       "\t california             & antiques               &  1                     & 122                   \\\\\n",
       "\t california             & Attorney               &  1                     & 122                   \\\\\n",
       "\t california             & BailReform             &  1                     & 122                   \\\\\n",
       "\t california             & battlegrounds          &  1                     & 122                   \\\\\n",
       "\t california             & californiapoppies      &  1                     & 122                   \\\\\n",
       "\t california             & caravan                &  1                     & 122                   \\\\\n",
       "\t california             & caravaning             &  1                     & 122                   \\\\\n",
       "\t california             & cdwsocial              &  1                     & 122                   \\\\\n",
       "\t california             & Cherries               &  1                     & 122                   \\\\\n",
       "\t california             & childabuse             &  1                     & 122                   \\\\\n",
       "\t california             & Criminal               &  1                     & 122                   \\\\\n",
       "\t california             & desertgenerator        &  1                     & 122                   \\\\\n",
       "\t california             & destination            &  1                     & 122                   \\\\\n",
       "\t california             & digitaldivide          &  1                     & 122                   \\\\\n",
       "\t california             & dodge                  &  1                     & 122                   \\\\\n",
       "\t california             & drought                &  1                     & 122                   \\\\\n",
       "\t california             & DuckCurve              &  1                     & 122                   \\\\\n",
       "\t ⋮ & ⋮ & ⋮ & ⋮\\\\\n",
       "\t california       & Imadeyourclothes & 1                & 122             \\\\\n",
       "\t california       & Immigrants       & 1                & 122             \\\\\n",
       "\t california       & Immigration      & 1                & 122             \\\\\n",
       "\t california       & indiedesigner    & 1                & 122             \\\\\n",
       "\t california       & ironyoftheyear   & 1                & 122             \\\\\n",
       "\t california       & Justice          & 1                & 122             \\\\\n",
       "\t california       & kitchenware      & 1                & 122             \\\\\n",
       "\t california       & laborshortages   & 1                & 122             \\\\\n",
       "\t california       & Law              & 1                & 122             \\\\\n",
       "\t california       & may20            & 1                & 122             \\\\\n",
       "\t california       & missvelvetcream  & 1                & 122             \\\\\n",
       "\t california       & Monterey         & 1                & 122             \\\\\n",
       "\t california       & nonprofits       & 1                & 122             \\\\\n",
       "\t california       & oldstuff         & 1                & 122             \\\\\n",
       "\t california       & penstemon        & 1                & 122             \\\\\n",
       "\t california       & politicians      & 1                & 122             \\\\\n",
       "\t california       & quote            & 1                & 122             \\\\\n",
       "\t california       & roadtrip         & 1                & 122             \\\\\n",
       "\t california       & rollingheavy     & 1                & 122             \\\\\n",
       "\t california       & SaveUSA          & 1                & 122             \\\\\n",
       "\t california       & SB10             & 1                & 122             \\\\\n",
       "\t california       & SB562            & 1                & 122             \\\\\n",
       "\t california       & sodabottle       & 1                & 122             \\\\\n",
       "\t california       & suck             & 1                & 122             \\\\\n",
       "\t california       & tags             & 1                & 122             \\\\\n",
       "\t california       & ThomasEdison     & 1                & 122             \\\\\n",
       "\t california       & van              & 1                & 122             \\\\\n",
       "\t california       & vannin           & 1                & 122             \\\\\n",
       "\t california       & VisitBurbank     & 1                & 122             \\\\\n",
       "\t california       & VoiceofWipro     & 1                & 122             \\\\\n",
       "\\end{tabular}\n"
      ],
      "text/plain": [
       "   name       hashtag                n  total\n",
       "1  california CounterExtremismVision 19 122  \n",
       "2  california Calexit                18 122  \n",
       "3  california California              9 122  \n",
       "4  california california              3 122  \n",
       "5  california BestHighSchools         2 122  \n",
       "6  california education               2 122  \n",
       "7  california QueMañana               2 122  \n",
       "8  california SanDiego                2 122  \n",
       "9  california TheBlackRosesTour       2 122  \n",
       "10 california travel                  2 122  \n",
       "11 california 5Star                   1 122  \n",
       "12 california AB1612                  1 122  \n",
       "13 california AB42                    1 122  \n",
       "14 california antiques                1 122  \n",
       "15 california Attorney                1 122  \n",
       "16 california BailReform              1 122  \n",
       "17 california battlegrounds           1 122  \n",
       "18 california californiapoppies       1 122  \n",
       "19 california caravan                 1 122  \n",
       "20 california caravaning              1 122  \n",
       "21 california cdwsocial               1 122  \n",
       "22 california Cherries                1 122  \n",
       "23 california childabuse              1 122  \n",
       "24 california Criminal                1 122  \n",
       "25 california desertgenerator         1 122  \n",
       "26 california destination             1 122  \n",
       "27 california digitaldivide           1 122  \n",
       "28 california dodge                   1 122  \n",
       "29 california drought                 1 122  \n",
       "30 california DuckCurve               1 122  \n",
       "⋮  ⋮          ⋮                      ⋮  ⋮    \n",
       "42 california Imadeyourclothes       1  122  \n",
       "43 california Immigrants             1  122  \n",
       "44 california Immigration            1  122  \n",
       "45 california indiedesigner          1  122  \n",
       "46 california ironyoftheyear         1  122  \n",
       "47 california Justice                1  122  \n",
       "48 california kitchenware            1  122  \n",
       "49 california laborshortages         1  122  \n",
       "50 california Law                    1  122  \n",
       "51 california may20                  1  122  \n",
       "52 california missvelvetcream        1  122  \n",
       "53 california Monterey               1  122  \n",
       "54 california nonprofits             1  122  \n",
       "55 california oldstuff               1  122  \n",
       "56 california penstemon              1  122  \n",
       "57 california politicians            1  122  \n",
       "58 california quote                  1  122  \n",
       "59 california roadtrip               1  122  \n",
       "60 california rollingheavy           1  122  \n",
       "61 california SaveUSA                1  122  \n",
       "62 california SB10                   1  122  \n",
       "63 california SB562                  1  122  \n",
       "64 california sodabottle             1  122  \n",
       "65 california suck                   1  122  \n",
       "66 california tags                   1  122  \n",
       "67 california ThomasEdison           1  122  \n",
       "68 california van                    1  122  \n",
       "69 california vannin                 1  122  \n",
       "70 california VisitBurbank           1  122  \n",
       "71 california VoiceofWipro           1  122  "
      ]
     },
     "metadata": {},
     "output_type": "display_data"
    }
   ],
   "source": [
    "library(dplyr)\n",
    "library(tidytext)\n",
    "\n",
    "words <- ca %>%\n",
    "  count(name, hashtag, sort = TRUE) %>%\n",
    "  ungroup()\n",
    "\n",
    "total_words <- words %>% \n",
    "  group_by(name) %>% \n",
    "  summarize(total = sum(n))\n",
    "\n",
    "ca_hash <- left_join(words, total_words)\n",
    "\n",
    "ca_hash"
   ]
  },
  {
   "cell_type": "code",
   "execution_count": 32,
   "metadata": {
    "collapsed": false
   },
   "outputs": [
    {
     "name": "stderr",
     "output_type": "stream",
     "text": [
      "Joining, by = \"name\"\n"
     ]
    },
    {
     "data": {
      "text/html": [
       "<table>\n",
       "<thead><tr><th scope=col>name</th><th scope=col>hashtag</th><th scope=col>n</th><th scope=col>total</th></tr></thead>\n",
       "<tbody>\n",
       "\t<tr><td>london                   </td><td>London                   </td><td>28                       </td><td>129                      </td></tr>\n",
       "\t<tr><td>london                   </td><td>onlinemarketing          </td><td>26                       </td><td>129                      </td></tr>\n",
       "\t<tr><td>london                   </td><td>SEO                      </td><td>26                       </td><td>129                      </td></tr>\n",
       "\t<tr><td>london                   </td><td>SMM                      </td><td>26                       </td><td>129                      </td></tr>\n",
       "\t<tr><td>london                   </td><td>CoDWWII                  </td><td> 2                       </td><td>129                      </td></tr>\n",
       "\t<tr><td>london                   </td><td>FTSE100                  </td><td> 2                       </td><td>129                      </td></tr>\n",
       "\t<tr><td>london                   </td><td>Canada150                </td><td> 1                       </td><td>129                      </td></tr>\n",
       "\t<tr><td>london                   </td><td>CelebratingCancerAllClear</td><td> 1                       </td><td>129                      </td></tr>\n",
       "\t<tr><td>london                   </td><td>CMU                      </td><td> 1                       </td><td>129                      </td></tr>\n",
       "\t<tr><td>london                   </td><td>cocktails                </td><td> 1                       </td><td>129                      </td></tr>\n",
       "\t<tr><td>london                   </td><td>elrow                    </td><td> 1                       </td><td>129                      </td></tr>\n",
       "\t<tr><td>london                   </td><td>flowers                  </td><td> 1                       </td><td>129                      </td></tr>\n",
       "\t<tr><td>london                   </td><td>GreenwichHour            </td><td> 1                       </td><td>129                      </td></tr>\n",
       "\t<tr><td>london                   </td><td>Instagram                </td><td> 1                       </td><td>129                      </td></tr>\n",
       "\t<tr><td>london                   </td><td>japan                    </td><td> 1                       </td><td>129                      </td></tr>\n",
       "\t<tr><td>london                   </td><td>joinus                   </td><td> 1                       </td><td>129                      </td></tr>\n",
       "\t<tr><td>london                   </td><td>london                   </td><td> 1                       </td><td>129                      </td></tr>\n",
       "\t<tr><td>london                   </td><td>LondonMarathon           </td><td> 1                       </td><td>129                      </td></tr>\n",
       "\t<tr><td>london                   </td><td>Paris                    </td><td> 1                       </td><td>129                      </td></tr>\n",
       "\t<tr><td>london                   </td><td>photography              </td><td> 1                       </td><td>129                      </td></tr>\n",
       "\t<tr><td>london                   </td><td>Reed                     </td><td> 1                       </td><td>129                      </td></tr>\n",
       "\t<tr><td>london                   </td><td>SE7                      </td><td> 1                       </td><td>129                      </td></tr>\n",
       "\t<tr><td>london                   </td><td>socialmedia              </td><td> 1                       </td><td>129                      </td></tr>\n",
       "\t<tr><td>london                   </td><td>Somaliland               </td><td> 1                       </td><td>129                      </td></tr>\n",
       "\t<tr><td>london                   </td><td>thelocalist              </td><td> 1                       </td><td>129                      </td></tr>\n",
       "</tbody>\n",
       "</table>\n"
      ],
      "text/latex": [
       "\\begin{tabular}{r|llll}\n",
       " name & hashtag & n & total\\\\\n",
       "\\hline\n",
       "\t london                    & London                    & 28                        & 129                      \\\\\n",
       "\t london                    & onlinemarketing           & 26                        & 129                      \\\\\n",
       "\t london                    & SEO                       & 26                        & 129                      \\\\\n",
       "\t london                    & SMM                       & 26                        & 129                      \\\\\n",
       "\t london                    & CoDWWII                   &  2                        & 129                      \\\\\n",
       "\t london                    & FTSE100                   &  2                        & 129                      \\\\\n",
       "\t london                    & Canada150                 &  1                        & 129                      \\\\\n",
       "\t london                    & CelebratingCancerAllClear &  1                        & 129                      \\\\\n",
       "\t london                    & CMU                       &  1                        & 129                      \\\\\n",
       "\t london                    & cocktails                 &  1                        & 129                      \\\\\n",
       "\t london                    & elrow                     &  1                        & 129                      \\\\\n",
       "\t london                    & flowers                   &  1                        & 129                      \\\\\n",
       "\t london                    & GreenwichHour             &  1                        & 129                      \\\\\n",
       "\t london                    & Instagram                 &  1                        & 129                      \\\\\n",
       "\t london                    & japan                     &  1                        & 129                      \\\\\n",
       "\t london                    & joinus                    &  1                        & 129                      \\\\\n",
       "\t london                    & london                    &  1                        & 129                      \\\\\n",
       "\t london                    & LondonMarathon            &  1                        & 129                      \\\\\n",
       "\t london                    & Paris                     &  1                        & 129                      \\\\\n",
       "\t london                    & photography               &  1                        & 129                      \\\\\n",
       "\t london                    & Reed                      &  1                        & 129                      \\\\\n",
       "\t london                    & SE7                       &  1                        & 129                      \\\\\n",
       "\t london                    & socialmedia               &  1                        & 129                      \\\\\n",
       "\t london                    & Somaliland                &  1                        & 129                      \\\\\n",
       "\t london                    & thelocalist               &  1                        & 129                      \\\\\n",
       "\\end{tabular}\n"
      ],
      "text/plain": [
       "   name   hashtag                   n  total\n",
       "1  london London                    28 129  \n",
       "2  london onlinemarketing           26 129  \n",
       "3  london SEO                       26 129  \n",
       "4  london SMM                       26 129  \n",
       "5  london CoDWWII                    2 129  \n",
       "6  london FTSE100                    2 129  \n",
       "7  london Canada150                  1 129  \n",
       "8  london CelebratingCancerAllClear  1 129  \n",
       "9  london CMU                        1 129  \n",
       "10 london cocktails                  1 129  \n",
       "11 london elrow                      1 129  \n",
       "12 london flowers                    1 129  \n",
       "13 london GreenwichHour              1 129  \n",
       "14 london Instagram                  1 129  \n",
       "15 london japan                      1 129  \n",
       "16 london joinus                     1 129  \n",
       "17 london london                     1 129  \n",
       "18 london LondonMarathon             1 129  \n",
       "19 london Paris                      1 129  \n",
       "20 london photography                1 129  \n",
       "21 london Reed                       1 129  \n",
       "22 london SE7                        1 129  \n",
       "23 london socialmedia                1 129  \n",
       "24 london Somaliland                 1 129  \n",
       "25 london thelocalist                1 129  "
      ]
     },
     "metadata": {},
     "output_type": "display_data"
    }
   ],
   "source": [
    "words <- london %>%\n",
    "  count(name, hashtag, sort = TRUE) %>%\n",
    "  ungroup()\n",
    "\n",
    "total_words <- words %>% \n",
    "  group_by(name) %>% \n",
    "  summarize(total = sum(n))\n",
    "\n",
    "london_hash <- left_join(words, total_words)\n",
    "\n",
    "london_hash"
   ]
  },
  {
   "cell_type": "code",
   "execution_count": 33,
   "metadata": {
    "collapsed": false
   },
   "outputs": [
    {
     "name": "stderr",
     "output_type": "stream",
     "text": [
      "Joining, by = \"name\"\n"
     ]
    },
    {
     "data": {
      "text/html": [
       "<table>\n",
       "<thead><tr><th scope=col>name</th><th scope=col>hashtag</th><th scope=col>n</th><th scope=col>total</th></tr></thead>\n",
       "<tbody>\n",
       "\t<tr><td>france                    </td><td>France                    </td><td>7                         </td><td>53                        </td></tr>\n",
       "\t<tr><td>france                    </td><td>SortonsMacron             </td><td>6                         </td><td>53                        </td></tr>\n",
       "\t<tr><td>france                    </td><td>JamaisMacron              </td><td>4                         </td><td>53                        </td></tr>\n",
       "\t<tr><td>france                    </td><td>Macron                    </td><td>4                         </td><td>53                        </td></tr>\n",
       "\t<tr><td>france                    </td><td>JeVoteMarine              </td><td>3                         </td><td>53                        </td></tr>\n",
       "\t<tr><td>france                    </td><td>CICE                      </td><td>2                         </td><td>53                        </td></tr>\n",
       "\t<tr><td>france                    </td><td>MarineLePen               </td><td>2                         </td><td>53                        </td></tr>\n",
       "\t<tr><td>france                    </td><td>Metz                      </td><td>2                         </td><td>53                        </td></tr>\n",
       "\t<tr><td>france                    </td><td>AskChristianAnything      </td><td>1                         </td><td>53                        </td></tr>\n",
       "\t<tr><td>france                    </td><td>Audiences                 </td><td>1                         </td><td>53                        </td></tr>\n",
       "\t<tr><td>france                    </td><td>AudienceTV                </td><td>1                         </td><td>53                        </td></tr>\n",
       "\t<tr><td>france                    </td><td>Bongoiskilling            </td><td>1                         </td><td>53                        </td></tr>\n",
       "\t<tr><td>france                    </td><td>ElectionPresidentielle2017</td><td>1                         </td><td>53                        </td></tr>\n",
       "\t<tr><td>france                    </td><td>EmmanuelMacron            </td><td>1                         </td><td>53                        </td></tr>\n",
       "\t<tr><td>france                    </td><td>FN                        </td><td>1                         </td><td>53                        </td></tr>\n",
       "\t<tr><td>france                    </td><td>FranceAfrique             </td><td>1                         </td><td>53                        </td></tr>\n",
       "\t<tr><td>france                    </td><td>FreeGabon                 </td><td>1                         </td><td>53                        </td></tr>\n",
       "\t<tr><td>france                    </td><td>Gabon                     </td><td>1                         </td><td>53                        </td></tr>\n",
       "\t<tr><td>france                    </td><td>JeVote                    </td><td>1                         </td><td>53                        </td></tr>\n",
       "\t<tr><td>france                    </td><td>LePen                     </td><td>1                         </td><td>53                        </td></tr>\n",
       "\t<tr><td>france                    </td><td>Logement                  </td><td>1                         </td><td>53                        </td></tr>\n",
       "\t<tr><td>france                    </td><td>Marine2017                </td><td>1                         </td><td>53                        </td></tr>\n",
       "\t<tr><td>france                    </td><td>Paris                     </td><td>1                         </td><td>53                        </td></tr>\n",
       "\t<tr><td>france                    </td><td>Presidentielle2017        </td><td>1                         </td><td>53                        </td></tr>\n",
       "\t<tr><td>france                    </td><td>Quotidien                 </td><td>1                         </td><td>53                        </td></tr>\n",
       "\t<tr><td>france                    </td><td>SeCutie                   </td><td>1                         </td><td>53                        </td></tr>\n",
       "\t<tr><td>france                    </td><td>SortonsLePen              </td><td>1                         </td><td>53                        </td></tr>\n",
       "\t<tr><td>france                    </td><td>sortonsmacron             </td><td>1                         </td><td>53                        </td></tr>\n",
       "\t<tr><td>france                    </td><td>TheTravelLove             </td><td>1                         </td><td>53                        </td></tr>\n",
       "\t<tr><td>france                    </td><td>ToutSaufLePen             </td><td>1                         </td><td>53                        </td></tr>\n",
       "\t<tr><td>france                    </td><td>Travel                    </td><td>1                         </td><td>53                        </td></tr>\n",
       "</tbody>\n",
       "</table>\n"
      ],
      "text/latex": [
       "\\begin{tabular}{r|llll}\n",
       " name & hashtag & n & total\\\\\n",
       "\\hline\n",
       "\t france                     & France                     & 7                          & 53                        \\\\\n",
       "\t france                     & SortonsMacron              & 6                          & 53                        \\\\\n",
       "\t france                     & JamaisMacron               & 4                          & 53                        \\\\\n",
       "\t france                     & Macron                     & 4                          & 53                        \\\\\n",
       "\t france                     & JeVoteMarine               & 3                          & 53                        \\\\\n",
       "\t france                     & CICE                       & 2                          & 53                        \\\\\n",
       "\t france                     & MarineLePen                & 2                          & 53                        \\\\\n",
       "\t france                     & Metz                       & 2                          & 53                        \\\\\n",
       "\t france                     & AskChristianAnything       & 1                          & 53                        \\\\\n",
       "\t france                     & Audiences                  & 1                          & 53                        \\\\\n",
       "\t france                     & AudienceTV                 & 1                          & 53                        \\\\\n",
       "\t france                     & Bongoiskilling             & 1                          & 53                        \\\\\n",
       "\t france                     & ElectionPresidentielle2017 & 1                          & 53                        \\\\\n",
       "\t france                     & EmmanuelMacron             & 1                          & 53                        \\\\\n",
       "\t france                     & FN                         & 1                          & 53                        \\\\\n",
       "\t france                     & FranceAfrique              & 1                          & 53                        \\\\\n",
       "\t france                     & FreeGabon                  & 1                          & 53                        \\\\\n",
       "\t france                     & Gabon                      & 1                          & 53                        \\\\\n",
       "\t france                     & JeVote                     & 1                          & 53                        \\\\\n",
       "\t france                     & LePen                      & 1                          & 53                        \\\\\n",
       "\t france                     & Logement                   & 1                          & 53                        \\\\\n",
       "\t france                     & Marine2017                 & 1                          & 53                        \\\\\n",
       "\t france                     & Paris                      & 1                          & 53                        \\\\\n",
       "\t france                     & Presidentielle2017         & 1                          & 53                        \\\\\n",
       "\t france                     & Quotidien                  & 1                          & 53                        \\\\\n",
       "\t france                     & SeCutie                    & 1                          & 53                        \\\\\n",
       "\t france                     & SortonsLePen               & 1                          & 53                        \\\\\n",
       "\t france                     & sortonsmacron              & 1                          & 53                        \\\\\n",
       "\t france                     & TheTravelLove              & 1                          & 53                        \\\\\n",
       "\t france                     & ToutSaufLePen              & 1                          & 53                        \\\\\n",
       "\t france                     & Travel                     & 1                          & 53                        \\\\\n",
       "\\end{tabular}\n"
      ],
      "text/plain": [
       "   name   hashtag                    n total\n",
       "1  france France                     7 53   \n",
       "2  france SortonsMacron              6 53   \n",
       "3  france JamaisMacron               4 53   \n",
       "4  france Macron                     4 53   \n",
       "5  france JeVoteMarine               3 53   \n",
       "6  france CICE                       2 53   \n",
       "7  france MarineLePen                2 53   \n",
       "8  france Metz                       2 53   \n",
       "9  france AskChristianAnything       1 53   \n",
       "10 france Audiences                  1 53   \n",
       "11 france AudienceTV                 1 53   \n",
       "12 france Bongoiskilling             1 53   \n",
       "13 france ElectionPresidentielle2017 1 53   \n",
       "14 france EmmanuelMacron             1 53   \n",
       "15 france FN                         1 53   \n",
       "16 france FranceAfrique              1 53   \n",
       "17 france FreeGabon                  1 53   \n",
       "18 france Gabon                      1 53   \n",
       "19 france JeVote                     1 53   \n",
       "20 france LePen                      1 53   \n",
       "21 france Logement                   1 53   \n",
       "22 france Marine2017                 1 53   \n",
       "23 france Paris                      1 53   \n",
       "24 france Presidentielle2017         1 53   \n",
       "25 france Quotidien                  1 53   \n",
       "26 france SeCutie                    1 53   \n",
       "27 france SortonsLePen               1 53   \n",
       "28 france sortonsmacron              1 53   \n",
       "29 france TheTravelLove              1 53   \n",
       "30 france ToutSaufLePen              1 53   \n",
       "31 france Travel                     1 53   "
      ]
     },
     "metadata": {},
     "output_type": "display_data"
    }
   ],
   "source": [
    "words <- france %>%\n",
    "  count(name, hashtag, sort = TRUE) %>%\n",
    "  ungroup()\n",
    "\n",
    "total_words <- words %>% \n",
    "  group_by(name) %>% \n",
    "  summarize(total = sum(n))\n",
    "\n",
    "france_hash <- left_join(words, total_words)\n",
    "\n",
    "france_hash"
   ]
  },
  {
   "cell_type": "code",
   "execution_count": 63,
   "metadata": {
    "collapsed": false
   },
   "outputs": [
    {
     "data": {
      "text/html": [
       "<table>\n",
       "<thead><tr><th scope=col>iso_language</th><th scope=col>name</th><th scope=col>total</th></tr></thead>\n",
       "<tbody>\n",
       "\t<tr><td>en        </td><td>missouri  </td><td>95        </td></tr>\n",
       "\t<tr><td>en        </td><td>texas     </td><td>90        </td></tr>\n",
       "\t<tr><td>en        </td><td>california</td><td>85        </td></tr>\n",
       "\t<tr><td>en        </td><td>london    </td><td>72        </td></tr>\n",
       "\t<tr><td>fr        </td><td>france    </td><td>68        </td></tr>\n",
       "\t<tr><td>und       </td><td>london    </td><td>28        </td></tr>\n",
       "\t<tr><td>en        </td><td>france    </td><td>26        </td></tr>\n",
       "\t<tr><td>es        </td><td>california</td><td>10        </td></tr>\n",
       "\t<tr><td>es        </td><td>texas     </td><td> 6        </td></tr>\n",
       "\t<tr><td>und       </td><td>missouri  </td><td> 4        </td></tr>\n",
       "\t<tr><td>tl        </td><td>france    </td><td> 3        </td></tr>\n",
       "\t<tr><td>und       </td><td>california</td><td> 3        </td></tr>\n",
       "\t<tr><td>und       </td><td>france    </td><td> 2        </td></tr>\n",
       "\t<tr><td>und       </td><td>texas     </td><td> 2        </td></tr>\n",
       "\t<tr><td>es        </td><td>missouri  </td><td> 1        </td></tr>\n",
       "\t<tr><td>fi        </td><td>france    </td><td> 1        </td></tr>\n",
       "\t<tr><td>fr        </td><td>texas     </td><td> 1        </td></tr>\n",
       "\t<tr><td>it        </td><td>california</td><td> 1        </td></tr>\n",
       "\t<tr><td>pt        </td><td>california</td><td> 1        </td></tr>\n",
       "\t<tr><td>pt        </td><td>texas     </td><td> 1        </td></tr>\n",
       "</tbody>\n",
       "</table>\n"
      ],
      "text/latex": [
       "\\begin{tabular}{r|lll}\n",
       " iso\\_language & name & total\\\\\n",
       "\\hline\n",
       "\t en         & missouri   & 95        \\\\\n",
       "\t en         & texas      & 90        \\\\\n",
       "\t en         & california & 85        \\\\\n",
       "\t en         & london     & 72        \\\\\n",
       "\t fr         & france     & 68        \\\\\n",
       "\t und        & london     & 28        \\\\\n",
       "\t en         & france     & 26        \\\\\n",
       "\t es         & california & 10        \\\\\n",
       "\t es         & texas      &  6        \\\\\n",
       "\t und        & missouri   &  4        \\\\\n",
       "\t tl         & france     &  3        \\\\\n",
       "\t und        & california &  3        \\\\\n",
       "\t und        & france     &  2        \\\\\n",
       "\t und        & texas      &  2        \\\\\n",
       "\t es         & missouri   &  1        \\\\\n",
       "\t fi         & france     &  1        \\\\\n",
       "\t fr         & texas      &  1        \\\\\n",
       "\t it         & california &  1        \\\\\n",
       "\t pt         & california &  1        \\\\\n",
       "\t pt         & texas      &  1        \\\\\n",
       "\\end{tabular}\n"
      ],
      "text/plain": [
       "   iso_language name       total\n",
       "1  en           missouri   95   \n",
       "2  en           texas      90   \n",
       "3  en           california 85   \n",
       "4  en           london     72   \n",
       "5  fr           france     68   \n",
       "6  und          london     28   \n",
       "7  en           france     26   \n",
       "8  es           california 10   \n",
       "9  es           texas       6   \n",
       "10 und          missouri    4   \n",
       "11 tl           france      3   \n",
       "12 und          california  3   \n",
       "13 und          france      2   \n",
       "14 und          texas       2   \n",
       "15 es           missouri    1   \n",
       "16 fi           france      1   \n",
       "17 fr           texas       1   \n",
       "18 it           california  1   \n",
       "19 pt           california  1   \n",
       "20 pt           texas       1   "
      ]
     },
     "metadata": {},
     "output_type": "display_data"
    }
   ],
   "source": [
    "lang <- tweets %>%\n",
    "  count(name, iso_language, sort = TRUE) %>%\n",
    "  group_by(iso_language, name) %>% \n",
    "  summarize(total = sum(n))\n",
    "\n",
    "st_lang <- arrange(lang,desc(total))\n",
    "\n",
    "st_lang"
   ]
  },
  {
   "cell_type": "code",
   "execution_count": 64,
   "metadata": {
    "collapsed": false
   },
   "outputs": [
    {
     "data": {},
     "metadata": {},
     "output_type": "display_data"
    },
    {
     "data": {
      "image/png": "[encoded data removed]",
      "text/plain": [
       "plot without title"
      ]
     },
     "metadata": {},
     "output_type": "display_data"
    }
   ],
   "source": [
    "library(ggplot2)\n",
    "\n",
    "ggplot(st_lang, aes(iso_language, total), col=name) +\n",
    "  geom_col() +\n",
    "  labs(x = \"languages\", y = \"total\") +\n",
    "  coord_flip()\n",
    "\n"
   ]
  },
  {
   "cell_type": "code",
   "execution_count": 70,
   "metadata": {
    "collapsed": false
   },
   "outputs": [
    {
     "data": {},
     "metadata": {},
     "output_type": "display_data"
    },
    {
     "data": {
      "image/png": "[encoded data removed]",
      "text/plain": [
       "plot without title"
      ]
     },
     "metadata": {},
     "output_type": "display_data"
    }
   ],
   "source": [
    "p <- ggplot(st_lang, aes(x = reorder(iso_language, total), y = total, fill=name)) + \n",
    "  geom_bar(stat = \"identity\") +\n",
    "  coord_flip() +\n",
    "  labs(title=\" \", subtitle=\" \")+\n",
    "  labs(x=\" \",y=\" \") +\n",
    "  theme(plot.title = element_text(hjust = -1, vjust=1.12)) +\n",
    "  theme(plot.subtitle = element_text(hjust = -.35)) \n",
    "\n",
    "p"
   ]
  },
  {
   "cell_type": "code",
   "execution_count": 71,
   "metadata": {
    "collapsed": false
   },
   "outputs": [
    {
     "name": "stderr",
     "output_type": "stream",
     "text": [
      "Loading required package: RColorBrewer\n"
     ]
    }
   ],
   "source": [
    "library(wordcloud)"
   ]
  },
  {
   "cell_type": "code",
   "execution_count": 72,
   "metadata": {
    "collapsed": true
   },
   "outputs": [],
   "source": [
    "twitter <- tweets$text\n"
   ]
  },
  {
   "cell_type": "code",
   "execution_count": 73,
   "metadata": {
    "collapsed": false
   },
   "outputs": [
    {
     "name": "stderr",
     "output_type": "stream",
     "text": [
      "Warning message in wordcloud(twitter):\n",
      "“missouri could not be fit on page. It will not be plotted.”"
     ]
    },
    {
     "data": {
      "image/png": "[encoded data removed]",
      "text/plain": [
       "plot without title"
      ]
     },
     "metadata": {},
     "output_type": "display_data"
    }
   ],
   "source": [
    "wordcloud(twitter)"
   ]
  },
  {
   "cell_type": "code",
   "execution_count": null,
   "metadata": {
    "collapsed": true
   },
   "outputs": [],
   "source": []
  }
 ],
 "metadata": {
  "kernelspec": {
   "display_name": "R",
   "language": "R",
   "name": "ir"
  },
  "language_info": {
   "codemirror_mode": "r",
   "file_extension": ".r",
   "mimetype": "text/x-r-source",
   "name": "R",
   "pygments_lexer": "r",
   "version": "3.3.2"
  }
 },
 "nbformat": 4,
 "nbformat_minor": 2
}
