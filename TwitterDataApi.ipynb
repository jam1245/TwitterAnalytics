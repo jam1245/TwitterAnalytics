{
 "cells": [
  {
   "cell_type": "code",
   "execution_count": 1,
   "metadata": {
    "collapsed": false
   },
   "outputs": [],
   "source": [
    "import numpy as np \n",
    "import pandas as pd\n",
    "import argparse, collections, configparser, io, json, math, os, requests, sys, time\n",
    "from datetime import datetime\n",
    "from requests import HTTPError\n",
    "from requests import ConnectionError\n",
    "from requests_oauthlib import OAuth1\n",
    "from bs4 import BeautifulSoup"
   ]
  },
  {
   "cell_type": "code",
   "execution_count": 2,
   "metadata": {
    "collapsed": false
   },
   "outputs": [
    {
     "data": {
      "text/html": [
       "<div>\n",
       "<table border=\"1\" class=\"dataframe\">\n",
       "  <thead>\n",
       "    <tr style=\"text-align: right;\">\n",
       "      <th></th>\n",
       "      <th>job_id</th>\n",
       "      <th>query</th>\n",
       "    </tr>\n",
       "  </thead>\n",
       "  <tbody>\n",
       "    <tr>\n",
       "      <th>0</th>\n",
       "      <td>1</td>\n",
       "      <td>q=missouri</td>\n",
       "    </tr>\n",
       "    <tr>\n",
       "      <th>1</th>\n",
       "      <td>2</td>\n",
       "      <td>q=texas</td>\n",
       "    </tr>\n",
       "    <tr>\n",
       "      <th>2</th>\n",
       "      <td>3</td>\n",
       "      <td>q=california</td>\n",
       "    </tr>\n",
       "    <tr>\n",
       "      <th>3</th>\n",
       "      <td>4</td>\n",
       "      <td>q=london</td>\n",
       "    </tr>\n",
       "    <tr>\n",
       "      <th>4</th>\n",
       "      <td>5</td>\n",
       "      <td>q=france</td>\n",
       "    </tr>\n",
       "  </tbody>\n",
       "</table>\n",
       "</div>"
      ],
      "text/plain": [
       "   job_id         query\n",
       "0       1    q=missouri\n",
       "1       2       q=texas\n",
       "2       3  q=california\n",
       "3       4      q=london\n",
       "4       5      q=france"
      ]
     },
     "execution_count": 2,
     "metadata": {},
     "output_type": "execute_result"
    }
   ],
   "source": [
    "job = pd.read_csv('data/job.csv')\n",
    "job.head()"
   ]
  },
  {
   "cell_type": "code",
   "execution_count": 3,
   "metadata": {
    "collapsed": true
   },
   "outputs": [],
   "source": [
    "consumer_key = '7StWFQlriMB0PWrp7MhrrYiid'\n",
    "consumer_secret = '5FPZAdE7xCsO0jHzBBpgJOX5GeqQvhmGyUwFc8zX1iTlKflJDd'\n",
    "access_token = '2808413395-7T0aDBeaVlGrgS5PJepbnybxWbTIdYd0ajn6KH4'\n",
    "access_token_secret = 'EApjA21qAyzwTiO5lrk0ti9Zk6MYhJqsxCHz8nPHh1A2n'\n",
    "\n",
    "\n",
    "oauth = OAuth1(client_key=consumer_key,\n",
    "    client_secret=consumer_secret,\n",
    "    resource_owner_key=access_token,\n",
    "    resource_owner_secret=access_token_secret)"
   ]
  },
  {
   "cell_type": "code",
   "execution_count": 27,
   "metadata": {
    "collapsed": true
   },
   "outputs": [],
   "source": [
    "def search(query, oauth) :\n",
    "    print(\"Query: \" + query)\n",
    "    \n",
    "    attempt = 1\n",
    "    while attempt <= 3 :\n",
    "        try :\n",
    "            r = requests.get(\"https://api.twitter.com/1.1/search/tweets.json?\" + query+\"&count=100\", auth=oauth)\n",
    "            return json.loads(r.text)\n",
    "\n",
    "        except (ConnectionError, HTTPError) as err :\n",
    "            print(err)\n",
    "            sleep_time = 2**(attempt - 1)\n",
    "            print(\"Connection attempt \" + str(attempt) + \" failed. \"\n",
    "                \"Sleeping for \" + str(sleep_time) + \" second(s).\")\n",
    "            time.sleep(sleep_time)\n",
    "            attempt = attempt + 1\n",
    "    \n",
    "    print(\"***** Error: Unable to query Twitter. Terminating.\")"
   ]
  },
  {
   "cell_type": "code",
   "execution_count": 28,
   "metadata": {
    "collapsed": true
   },
   "outputs": [],
   "source": [
    "def getFullQuery(query) :\n",
    "    if (not query.startswith(\"q=\")) :\n",
    "        query = \"q=\" + query\n",
    "    return query"
   ]
  },
  {
   "cell_type": "code",
   "execution_count": 29,
   "metadata": {
    "collapsed": false
   },
   "outputs": [],
   "source": [
    "def structureTweetTable(tweet, job):\n",
    "   \n",
    "    list_o_dicts = []\n",
    "    list_o_hashtags = []\n",
    "    \n",
    "    for i in tweet['statuses']:\n",
    "        d = {}\n",
    "        d['tweet_id_str'] =  i[\"id_str\"] \n",
    "        d['job_id'] = job\n",
    "        d['created_at'] = datetime.strptime(i[\"created_at\"], '%a %b %d %H:%M:%S +0000 %Y').strftime('%Y-%m-%d %H:%M:%S')\n",
    "        d['text'] = i[\"text\"]\n",
    "        source = cleantext = BeautifulSoup(i[\"source\"]).text;\n",
    "        d['source'] = source\n",
    "        d['iso_language'] = i[\"metadata\"][\"iso_language_code\"]\n",
    "        for tag in i[\"entities\"][\"hashtags\"]:\n",
    "            h={}\n",
    "            h['job_id'] =  job\n",
    "            h['tweet_id_str'] =  i[\"id_str\"]\n",
    "            h['hashtag'] =  tag[\"text\"]\n",
    "            list_o_hashtags.append(h) \n",
    "        list_o_dicts.append(d)\n",
    "    return (list_o_dicts,list_o_hashtags)"
   ]
  },
  {
   "cell_type": "code",
   "execution_count": 30,
   "metadata": {
    "collapsed": false
   },
   "outputs": [
    {
     "name": "stdout",
     "output_type": "stream",
     "text": [
      "Query: q=missouri\n"
     ]
    },
    {
     "name": "stderr",
     "output_type": "stream",
     "text": [
      "/usr/lib/python3.4/site-packages/bs4/__init__.py:181: UserWarning: No parser was explicitly specified, so I'm using the best available HTML parser for this system (\"lxml\"). This usually isn't a problem, but if you run this code on another system, or in a different virtual environment, it may use a different parser and behave differently.\n",
      "\n",
      "The code that caused this warning is on line 170 of the file /usr/lib64/python3.4/runpy.py. To get rid of this warning, change code that looks like this:\n",
      "\n",
      " BeautifulSoup([your markup])\n",
      "\n",
      "to this:\n",
      "\n",
      " BeautifulSoup([your markup], \"lxml\")\n",
      "\n",
      "  markup_type=markup_type))\n"
     ]
    },
    {
     "name": "stdout",
     "output_type": "stream",
     "text": [
      "Query: q=texas\n",
      "Query: q=california\n",
      "Query: q=london\n",
      "Query: q=france\n"
     ]
    }
   ],
   "source": [
    "frames = []\n",
    "hashtags_frame = []\n",
    "for index, row in job.iterrows():\n",
    "    \n",
    "    job_id = row['job_id']\n",
    "    q = getFullQuery(row['query'])\n",
    "    results = search(q,oauth)\n",
    "    try:\n",
    "        data,tags = structureTweetTable(results,job_id)\n",
    "        f = pd.DataFrame(data)\n",
    "        frames.append(f)\n",
    "        h = pd.DataFrame(tags)\n",
    "        hashtags_frame.append(h)\n",
    "    except Exception:\n",
    "        print(e)\n",
    "        print(\"   no results returned for '{}'\".format(row['query']))\n",
    "        pass"
   ]
  },
  {
   "cell_type": "code",
   "execution_count": 31,
   "metadata": {
    "collapsed": false
   },
   "outputs": [],
   "source": [
    "df = pd.concat(frames)\n",
    "df_tags = pd.concat(hashtags_frame,ignore_index=True)"
   ]
  },
  {
   "cell_type": "code",
   "execution_count": 32,
   "metadata": {
    "collapsed": false
   },
   "outputs": [
    {
     "data": {
      "text/html": [
       "<div>\n",
       "<table border=\"1\" class=\"dataframe\">\n",
       "  <thead>\n",
       "    <tr style=\"text-align: right;\">\n",
       "      <th></th>\n",
       "      <th>created_at</th>\n",
       "      <th>iso_language</th>\n",
       "      <th>job_id</th>\n",
       "      <th>source</th>\n",
       "      <th>text</th>\n",
       "      <th>tweet_id_str</th>\n",
       "    </tr>\n",
       "  </thead>\n",
       "  <tbody>\n",
       "    <tr>\n",
       "      <th>0</th>\n",
       "      <td>2017-04-25 16:24:45</td>\n",
       "      <td>en</td>\n",
       "      <td>1</td>\n",
       "      <td>Twitter Web Client</td>\n",
       "      <td>#Redskins need to add to their pass rush. Miss...</td>\n",
       "      <td>856906838004178945</td>\n",
       "    </tr>\n",
       "    <tr>\n",
       "      <th>1</th>\n",
       "      <td>2017-04-25 16:24:21</td>\n",
       "      <td>en</td>\n",
       "      <td>1</td>\n",
       "      <td>Crowdfire - Go Big</td>\n",
       "      <td>Missouri Cowboy Poets Association event - Stor...</td>\n",
       "      <td>856906737718358016</td>\n",
       "    </tr>\n",
       "    <tr>\n",
       "      <th>2</th>\n",
       "      <td>2017-04-25 16:24:21</td>\n",
       "      <td>en</td>\n",
       "      <td>1</td>\n",
       "      <td>Twitter for iPhone</td>\n",
       "      <td>@bmark5472 @ChrisBragdon @SwolenBrain @ebell_m...</td>\n",
       "      <td>856906736208183296</td>\n",
       "    </tr>\n",
       "    <tr>\n",
       "      <th>3</th>\n",
       "      <td>2017-04-25 16:24:10</td>\n",
       "      <td>en</td>\n",
       "      <td>1</td>\n",
       "      <td>dlvr.it</td>\n",
       "      <td>Lincoln University, State Tech still looking f...</td>\n",
       "      <td>856906692956520452</td>\n",
       "    </tr>\n",
       "    <tr>\n",
       "      <th>4</th>\n",
       "      <td>2017-04-25 16:24:10</td>\n",
       "      <td>en</td>\n",
       "      <td>1</td>\n",
       "      <td>Twitter for iPhone</td>\n",
       "      <td>RT @notmagicscience: TEACHERS: Working &amp;amp; R...</td>\n",
       "      <td>856906692315025408</td>\n",
       "    </tr>\n",
       "    <tr>\n",
       "      <th>5</th>\n",
       "      <td>2017-04-25 16:24:06</td>\n",
       "      <td>en</td>\n",
       "      <td>1</td>\n",
       "      <td>Twitter for iPhone</td>\n",
       "      <td>RT @kwoodschools: US News and World Report ran...</td>\n",
       "      <td>856906675399380993</td>\n",
       "    </tr>\n",
       "    <tr>\n",
       "      <th>6</th>\n",
       "      <td>2017-04-25 16:23:58</td>\n",
       "      <td>en</td>\n",
       "      <td>1</td>\n",
       "      <td>Twitter for iPhone</td>\n",
       "      <td>RT @ValleyHush: KANSAS CITY MAY 5. Stoked to p...</td>\n",
       "      <td>856906641765273600</td>\n",
       "    </tr>\n",
       "    <tr>\n",
       "      <th>7</th>\n",
       "      <td>2017-04-25 16:23:53</td>\n",
       "      <td>en</td>\n",
       "      <td>1</td>\n",
       "      <td>Twitter for iPhone</td>\n",
       "      <td>@darlingmoon I'm working about 30 miles from M...</td>\n",
       "      <td>856906621594861569</td>\n",
       "    </tr>\n",
       "    <tr>\n",
       "      <th>8</th>\n",
       "      <td>2017-04-25 16:23:53</td>\n",
       "      <td>en</td>\n",
       "      <td>1</td>\n",
       "      <td>Twitter for Mac</td>\n",
       "      <td>RT @ValleyHush: KANSAS CITY MAY 5. Stoked to p...</td>\n",
       "      <td>856906619761942532</td>\n",
       "    </tr>\n",
       "    <tr>\n",
       "      <th>9</th>\n",
       "      <td>2017-04-25 16:23:47</td>\n",
       "      <td>en</td>\n",
       "      <td>1</td>\n",
       "      <td>Twitter for iPhone</td>\n",
       "      <td>RT @jrosenbaum: . @EricGreitens has appointed ...</td>\n",
       "      <td>856906594172489728</td>\n",
       "    </tr>\n",
       "    <tr>\n",
       "      <th>10</th>\n",
       "      <td>2017-04-25 16:23:27</td>\n",
       "      <td>en</td>\n",
       "      <td>1</td>\n",
       "      <td>Twitter for iPhone</td>\n",
       "      <td>Wait...university of Missouri just crossed 125...</td>\n",
       "      <td>856906509866999810</td>\n",
       "    </tr>\n",
       "    <tr>\n",
       "      <th>11</th>\n",
       "      <td>2017-04-25 16:23:22</td>\n",
       "      <td>en</td>\n",
       "      <td>1</td>\n",
       "      <td>Twitter for Android</td>\n",
       "      <td>RT @MotherJones: \"It is going to basically dec...</td>\n",
       "      <td>856906488400445442</td>\n",
       "    </tr>\n",
       "    <tr>\n",
       "      <th>12</th>\n",
       "      <td>2017-04-25 16:23:06</td>\n",
       "      <td>en</td>\n",
       "      <td>1</td>\n",
       "      <td>Twitter for Android</td>\n",
       "      <td>@matthew_west Happy Birthday, Matthew! 🎉🎈 Hope...</td>\n",
       "      <td>856906422029877250</td>\n",
       "    </tr>\n",
       "    <tr>\n",
       "      <th>13</th>\n",
       "      <td>2017-04-25 16:23:04</td>\n",
       "      <td>en</td>\n",
       "      <td>1</td>\n",
       "      <td>Twitter Web Client</td>\n",
       "      <td>#Missouri licking #roleplay #hotgirl stockings...</td>\n",
       "      <td>856906416224862212</td>\n",
       "    </tr>\n",
       "    <tr>\n",
       "      <th>14</th>\n",
       "      <td>2017-04-25 16:22:42</td>\n",
       "      <td>en</td>\n",
       "      <td>1</td>\n",
       "      <td>Twitter for iPhone</td>\n",
       "      <td>@bmark5472 @ChrisBragdon @SwolenBrain @ebell_m...</td>\n",
       "      <td>856906321509007361</td>\n",
       "    </tr>\n",
       "    <tr>\n",
       "      <th>15</th>\n",
       "      <td>2017-04-25 16:22:10</td>\n",
       "      <td>en</td>\n",
       "      <td>1</td>\n",
       "      <td>Twitter for iPhone</td>\n",
       "      <td>@bmark5472 @SwolenBrain @ChrisBragdon @ebell_m...</td>\n",
       "      <td>856906188692140032</td>\n",
       "    </tr>\n",
       "    <tr>\n",
       "      <th>16</th>\n",
       "      <td>2017-04-25 16:22:09</td>\n",
       "      <td>en</td>\n",
       "      <td>1</td>\n",
       "      <td>Twitter for Android</td>\n",
       "      <td>@Sara_Paxton Happy Birthday, Sara! 🎉🎈 Hope you...</td>\n",
       "      <td>856906182597980163</td>\n",
       "    </tr>\n",
       "    <tr>\n",
       "      <th>17</th>\n",
       "      <td>2017-04-25 16:22:08</td>\n",
       "      <td>en</td>\n",
       "      <td>1</td>\n",
       "      <td>Twitter for iPhone</td>\n",
       "      <td>RT @MichaelOsipoff: Can confirm Missouri Valle...</td>\n",
       "      <td>856906180932907008</td>\n",
       "    </tr>\n",
       "    <tr>\n",
       "      <th>18</th>\n",
       "      <td>2017-04-25 16:21:41</td>\n",
       "      <td>en</td>\n",
       "      <td>1</td>\n",
       "      <td>Twitter for Android</td>\n",
       "      <td>RT @Charles_AO1: Path to the Pros 2017: Charle...</td>\n",
       "      <td>856906064603656192</td>\n",
       "    </tr>\n",
       "    <tr>\n",
       "      <th>19</th>\n",
       "      <td>2017-04-25 16:21:34</td>\n",
       "      <td>en</td>\n",
       "      <td>1</td>\n",
       "      <td>Twitter for iPhone</td>\n",
       "      <td>RT @jrosenbaum: . @EricGreitens has appointed ...</td>\n",
       "      <td>856906037751840769</td>\n",
       "    </tr>\n",
       "  </tbody>\n",
       "</table>\n",
       "</div>"
      ],
      "text/plain": [
       "             created_at iso_language  job_id               source  \\\n",
       "0   2017-04-25 16:24:45           en       1   Twitter Web Client   \n",
       "1   2017-04-25 16:24:21           en       1   Crowdfire - Go Big   \n",
       "2   2017-04-25 16:24:21           en       1   Twitter for iPhone   \n",
       "3   2017-04-25 16:24:10           en       1              dlvr.it   \n",
       "4   2017-04-25 16:24:10           en       1   Twitter for iPhone   \n",
       "5   2017-04-25 16:24:06           en       1   Twitter for iPhone   \n",
       "6   2017-04-25 16:23:58           en       1   Twitter for iPhone   \n",
       "7   2017-04-25 16:23:53           en       1   Twitter for iPhone   \n",
       "8   2017-04-25 16:23:53           en       1      Twitter for Mac   \n",
       "9   2017-04-25 16:23:47           en       1   Twitter for iPhone   \n",
       "10  2017-04-25 16:23:27           en       1   Twitter for iPhone   \n",
       "11  2017-04-25 16:23:22           en       1  Twitter for Android   \n",
       "12  2017-04-25 16:23:06           en       1  Twitter for Android   \n",
       "13  2017-04-25 16:23:04           en       1   Twitter Web Client   \n",
       "14  2017-04-25 16:22:42           en       1   Twitter for iPhone   \n",
       "15  2017-04-25 16:22:10           en       1   Twitter for iPhone   \n",
       "16  2017-04-25 16:22:09           en       1  Twitter for Android   \n",
       "17  2017-04-25 16:22:08           en       1   Twitter for iPhone   \n",
       "18  2017-04-25 16:21:41           en       1  Twitter for Android   \n",
       "19  2017-04-25 16:21:34           en       1   Twitter for iPhone   \n",
       "\n",
       "                                                 text        tweet_id_str  \n",
       "0   #Redskins need to add to their pass rush. Miss...  856906838004178945  \n",
       "1   Missouri Cowboy Poets Association event - Stor...  856906737718358016  \n",
       "2   @bmark5472 @ChrisBragdon @SwolenBrain @ebell_m...  856906736208183296  \n",
       "3   Lincoln University, State Tech still looking f...  856906692956520452  \n",
       "4   RT @notmagicscience: TEACHERS: Working &amp; R...  856906692315025408  \n",
       "5   RT @kwoodschools: US News and World Report ran...  856906675399380993  \n",
       "6   RT @ValleyHush: KANSAS CITY MAY 5. Stoked to p...  856906641765273600  \n",
       "7   @darlingmoon I'm working about 30 miles from M...  856906621594861569  \n",
       "8   RT @ValleyHush: KANSAS CITY MAY 5. Stoked to p...  856906619761942532  \n",
       "9   RT @jrosenbaum: . @EricGreitens has appointed ...  856906594172489728  \n",
       "10  Wait...university of Missouri just crossed 125...  856906509866999810  \n",
       "11  RT @MotherJones: \"It is going to basically dec...  856906488400445442  \n",
       "12  @matthew_west Happy Birthday, Matthew! 🎉🎈 Hope...  856906422029877250  \n",
       "13  #Missouri licking #roleplay #hotgirl stockings...  856906416224862212  \n",
       "14  @bmark5472 @ChrisBragdon @SwolenBrain @ebell_m...  856906321509007361  \n",
       "15  @bmark5472 @SwolenBrain @ChrisBragdon @ebell_m...  856906188692140032  \n",
       "16  @Sara_Paxton Happy Birthday, Sara! 🎉🎈 Hope you...  856906182597980163  \n",
       "17  RT @MichaelOsipoff: Can confirm Missouri Valle...  856906180932907008  \n",
       "18  RT @Charles_AO1: Path to the Pros 2017: Charle...  856906064603656192  \n",
       "19  RT @jrosenbaum: . @EricGreitens has appointed ...  856906037751840769  "
      ]
     },
     "execution_count": 32,
     "metadata": {},
     "output_type": "execute_result"
    }
   ],
   "source": [
    "df.head(20)"
   ]
  },
  {
   "cell_type": "code",
   "execution_count": 33,
   "metadata": {
    "collapsed": false
   },
   "outputs": [
    {
     "data": {
      "text/html": [
       "<div>\n",
       "<table border=\"1\" class=\"dataframe\">\n",
       "  <thead>\n",
       "    <tr style=\"text-align: right;\">\n",
       "      <th></th>\n",
       "      <th>hashtag</th>\n",
       "      <th>job_id</th>\n",
       "      <th>tweet_id_str</th>\n",
       "    </tr>\n",
       "  </thead>\n",
       "  <tbody>\n",
       "    <tr>\n",
       "      <th>0</th>\n",
       "      <td>Redskins</td>\n",
       "      <td>1</td>\n",
       "      <td>856906838004178945</td>\n",
       "    </tr>\n",
       "    <tr>\n",
       "      <th>1</th>\n",
       "      <td>Missouri</td>\n",
       "      <td>1</td>\n",
       "      <td>856906416224862212</td>\n",
       "    </tr>\n",
       "    <tr>\n",
       "      <th>2</th>\n",
       "      <td>roleplay</td>\n",
       "      <td>1</td>\n",
       "      <td>856906416224862212</td>\n",
       "    </tr>\n",
       "    <tr>\n",
       "      <th>3</th>\n",
       "      <td>hotgirl</td>\n",
       "      <td>1</td>\n",
       "      <td>856906416224862212</td>\n",
       "    </tr>\n",
       "    <tr>\n",
       "      <th>4</th>\n",
       "      <td>love</td>\n",
       "      <td>1</td>\n",
       "      <td>856906416224862212</td>\n",
       "    </tr>\n",
       "  </tbody>\n",
       "</table>\n",
       "</div>"
      ],
      "text/plain": [
       "    hashtag  job_id        tweet_id_str\n",
       "0  Redskins       1  856906838004178945\n",
       "1  Missouri       1  856906416224862212\n",
       "2  roleplay       1  856906416224862212\n",
       "3   hotgirl       1  856906416224862212\n",
       "4      love       1  856906416224862212"
      ]
     },
     "execution_count": 33,
     "metadata": {},
     "output_type": "execute_result"
    }
   ],
   "source": [
    "df_tags.head()"
   ]
  },
  {
   "cell_type": "code",
   "execution_count": 37,
   "metadata": {
    "collapsed": false
   },
   "outputs": [],
   "source": [
    "df_tags.to_csv('hashtags.csv', sep='|')\n"
   ]
  },
  {
   "cell_type": "code",
   "execution_count": 38,
   "metadata": {
    "collapsed": true
   },
   "outputs": [],
   "source": [
    "df.to_csv('tweets1.csv', sep='|')"
   ]
  },
  {
   "cell_type": "code",
   "execution_count": null,
   "metadata": {
    "collapsed": true
   },
   "outputs": [],
   "source": []
  }
 ],
 "metadata": {
  "kernelspec": {
   "display_name": "Python 3",
   "language": "python",
   "name": "python3"
  },
  "language_info": {
   "codemirror_mode": {
    "name": "ipython",
    "version": 3
   },
   "file_extension": ".py",
   "mimetype": "text/x-python",
   "name": "python",
   "nbconvert_exporter": "python",
   "pygments_lexer": "ipython3",
   "version": "3.4.5"
  }
 },
 "nbformat": 4,
 "nbformat_minor": 2
}
